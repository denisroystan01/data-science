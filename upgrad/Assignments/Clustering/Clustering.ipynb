{
 "cells": [
  {
   "cell_type": "code",
   "execution_count": 1,
   "metadata": {},
   "outputs": [],
   "source": [
    "# Supress Warnings\n",
    "\n",
    "import warnings\n",
    "warnings.filterwarnings('ignore')"
   ]
  },
  {
   "cell_type": "code",
   "execution_count": 2,
   "metadata": {},
   "outputs": [],
   "source": [
    "# Import the packages\n",
    "%matplotlib inline\n",
    "\n",
    "import numpy as np\n",
    "import pandas as pd\n",
    "\n",
    "import matplotlib.pyplot as plt\n",
    "import seaborn as sns\n",
    "\n",
    "# To Scale our data\n",
    "from sklearn.preprocessing import scale\n",
    "\n",
    "# To perform KMeans clustering \n",
    "from sklearn.cluster import KMeans\n",
    "\n",
    "# To perform Hierarchical clustering\n",
    "from scipy.cluster.hierarchy import dendrogram, linkage, cut_tree"
   ]
  },
  {
   "cell_type": "markdown",
   "metadata": {},
   "source": [
    "## Task 1: Reading and Inspection\n",
    "\n",
    "-  ### Subtask 1.1: Import and read\n",
    "\n",
    "Import and read the Country dataset."
   ]
  },
  {
   "cell_type": "code",
   "execution_count": 3,
   "metadata": {},
   "outputs": [
    {
     "data": {
      "text/html": [
       "<div>\n",
       "<style scoped>\n",
       "    .dataframe tbody tr th:only-of-type {\n",
       "        vertical-align: middle;\n",
       "    }\n",
       "\n",
       "    .dataframe tbody tr th {\n",
       "        vertical-align: top;\n",
       "    }\n",
       "\n",
       "    .dataframe thead th {\n",
       "        text-align: right;\n",
       "    }\n",
       "</style>\n",
       "<table border=\"1\" class=\"dataframe\">\n",
       "  <thead>\n",
       "    <tr style=\"text-align: right;\">\n",
       "      <th></th>\n",
       "      <th>country</th>\n",
       "      <th>child_mort</th>\n",
       "      <th>exports</th>\n",
       "      <th>health</th>\n",
       "      <th>imports</th>\n",
       "      <th>income</th>\n",
       "      <th>inflation</th>\n",
       "      <th>life_expec</th>\n",
       "      <th>total_fer</th>\n",
       "      <th>gdpp</th>\n",
       "    </tr>\n",
       "  </thead>\n",
       "  <tbody>\n",
       "    <tr>\n",
       "      <td>0</td>\n",
       "      <td>Afghanistan</td>\n",
       "      <td>90.2</td>\n",
       "      <td>10.0</td>\n",
       "      <td>7.58</td>\n",
       "      <td>44.9</td>\n",
       "      <td>1610</td>\n",
       "      <td>9.44</td>\n",
       "      <td>56.2</td>\n",
       "      <td>5.82</td>\n",
       "      <td>553</td>\n",
       "    </tr>\n",
       "    <tr>\n",
       "      <td>1</td>\n",
       "      <td>Albania</td>\n",
       "      <td>16.6</td>\n",
       "      <td>28.0</td>\n",
       "      <td>6.55</td>\n",
       "      <td>48.6</td>\n",
       "      <td>9930</td>\n",
       "      <td>4.49</td>\n",
       "      <td>76.3</td>\n",
       "      <td>1.65</td>\n",
       "      <td>4090</td>\n",
       "    </tr>\n",
       "    <tr>\n",
       "      <td>2</td>\n",
       "      <td>Algeria</td>\n",
       "      <td>27.3</td>\n",
       "      <td>38.4</td>\n",
       "      <td>4.17</td>\n",
       "      <td>31.4</td>\n",
       "      <td>12900</td>\n",
       "      <td>16.10</td>\n",
       "      <td>76.5</td>\n",
       "      <td>2.89</td>\n",
       "      <td>4460</td>\n",
       "    </tr>\n",
       "    <tr>\n",
       "      <td>3</td>\n",
       "      <td>Angola</td>\n",
       "      <td>119.0</td>\n",
       "      <td>62.3</td>\n",
       "      <td>2.85</td>\n",
       "      <td>42.9</td>\n",
       "      <td>5900</td>\n",
       "      <td>22.40</td>\n",
       "      <td>60.1</td>\n",
       "      <td>6.16</td>\n",
       "      <td>3530</td>\n",
       "    </tr>\n",
       "    <tr>\n",
       "      <td>4</td>\n",
       "      <td>Antigua and Barbuda</td>\n",
       "      <td>10.3</td>\n",
       "      <td>45.5</td>\n",
       "      <td>6.03</td>\n",
       "      <td>58.9</td>\n",
       "      <td>19100</td>\n",
       "      <td>1.44</td>\n",
       "      <td>76.8</td>\n",
       "      <td>2.13</td>\n",
       "      <td>12200</td>\n",
       "    </tr>\n",
       "  </tbody>\n",
       "</table>\n",
       "</div>"
      ],
      "text/plain": [
       "               country  child_mort  exports  health  imports  income  \\\n",
       "0          Afghanistan        90.2     10.0    7.58     44.9    1610   \n",
       "1              Albania        16.6     28.0    6.55     48.6    9930   \n",
       "2              Algeria        27.3     38.4    4.17     31.4   12900   \n",
       "3               Angola       119.0     62.3    2.85     42.9    5900   \n",
       "4  Antigua and Barbuda        10.3     45.5    6.03     58.9   19100   \n",
       "\n",
       "   inflation  life_expec  total_fer   gdpp  \n",
       "0       9.44        56.2       5.82    553  \n",
       "1       4.49        76.3       1.65   4090  \n",
       "2      16.10        76.5       2.89   4460  \n",
       "3      22.40        60.1       6.16   3530  \n",
       "4       1.44        76.8       2.13  12200  "
      ]
     },
     "execution_count": 3,
     "metadata": {},
     "output_type": "execute_result"
    }
   ],
   "source": [
    "countries_raw_df = pd.read_csv('Country-data.csv')\n",
    "countries_raw_df.head()"
   ]
  },
  {
   "cell_type": "markdown",
   "metadata": {},
   "source": [
    "-  ### Subtask 1.2: Inspect the dataframe\n",
    "\n",
    "Inspect the dataframe's columns, shapes, variable types etc."
   ]
  },
  {
   "cell_type": "code",
   "execution_count": 4,
   "metadata": {},
   "outputs": [
    {
     "data": {
      "text/plain": [
       "(167, 10)"
      ]
     },
     "execution_count": 4,
     "metadata": {},
     "output_type": "execute_result"
    }
   ],
   "source": [
    "countries_raw_df.shape"
   ]
  },
  {
   "cell_type": "code",
   "execution_count": 5,
   "metadata": {},
   "outputs": [
    {
     "name": "stdout",
     "output_type": "stream",
     "text": [
      "<class 'pandas.core.frame.DataFrame'>\n",
      "RangeIndex: 167 entries, 0 to 166\n",
      "Data columns (total 10 columns):\n",
      "country       167 non-null object\n",
      "child_mort    167 non-null float64\n",
      "exports       167 non-null float64\n",
      "health        167 non-null float64\n",
      "imports       167 non-null float64\n",
      "income        167 non-null int64\n",
      "inflation     167 non-null float64\n",
      "life_expec    167 non-null float64\n",
      "total_fer     167 non-null float64\n",
      "gdpp          167 non-null int64\n",
      "dtypes: float64(7), int64(2), object(1)\n",
      "memory usage: 13.2+ KB\n"
     ]
    }
   ],
   "source": [
    "countries_raw_df.info()"
   ]
  },
  {
   "cell_type": "code",
   "execution_count": 6,
   "metadata": {},
   "outputs": [
    {
     "data": {
      "text/html": [
       "<div>\n",
       "<style scoped>\n",
       "    .dataframe tbody tr th:only-of-type {\n",
       "        vertical-align: middle;\n",
       "    }\n",
       "\n",
       "    .dataframe tbody tr th {\n",
       "        vertical-align: top;\n",
       "    }\n",
       "\n",
       "    .dataframe thead th {\n",
       "        text-align: right;\n",
       "    }\n",
       "</style>\n",
       "<table border=\"1\" class=\"dataframe\">\n",
       "  <thead>\n",
       "    <tr style=\"text-align: right;\">\n",
       "      <th></th>\n",
       "      <th>child_mort</th>\n",
       "      <th>exports</th>\n",
       "      <th>health</th>\n",
       "      <th>imports</th>\n",
       "      <th>income</th>\n",
       "      <th>inflation</th>\n",
       "      <th>life_expec</th>\n",
       "      <th>total_fer</th>\n",
       "      <th>gdpp</th>\n",
       "    </tr>\n",
       "  </thead>\n",
       "  <tbody>\n",
       "    <tr>\n",
       "      <td>count</td>\n",
       "      <td>167.000000</td>\n",
       "      <td>167.000000</td>\n",
       "      <td>167.000000</td>\n",
       "      <td>167.000000</td>\n",
       "      <td>167.000000</td>\n",
       "      <td>167.000000</td>\n",
       "      <td>167.000000</td>\n",
       "      <td>167.000000</td>\n",
       "      <td>167.000000</td>\n",
       "    </tr>\n",
       "    <tr>\n",
       "      <td>mean</td>\n",
       "      <td>38.270060</td>\n",
       "      <td>41.108976</td>\n",
       "      <td>6.815689</td>\n",
       "      <td>46.890215</td>\n",
       "      <td>17144.688623</td>\n",
       "      <td>7.781832</td>\n",
       "      <td>70.555689</td>\n",
       "      <td>2.947964</td>\n",
       "      <td>12964.155689</td>\n",
       "    </tr>\n",
       "    <tr>\n",
       "      <td>std</td>\n",
       "      <td>40.328931</td>\n",
       "      <td>27.412010</td>\n",
       "      <td>2.746837</td>\n",
       "      <td>24.209589</td>\n",
       "      <td>19278.067698</td>\n",
       "      <td>10.570704</td>\n",
       "      <td>8.893172</td>\n",
       "      <td>1.513848</td>\n",
       "      <td>18328.704809</td>\n",
       "    </tr>\n",
       "    <tr>\n",
       "      <td>min</td>\n",
       "      <td>2.600000</td>\n",
       "      <td>0.109000</td>\n",
       "      <td>1.810000</td>\n",
       "      <td>0.065900</td>\n",
       "      <td>609.000000</td>\n",
       "      <td>-4.210000</td>\n",
       "      <td>32.100000</td>\n",
       "      <td>1.150000</td>\n",
       "      <td>231.000000</td>\n",
       "    </tr>\n",
       "    <tr>\n",
       "      <td>25%</td>\n",
       "      <td>8.250000</td>\n",
       "      <td>23.800000</td>\n",
       "      <td>4.920000</td>\n",
       "      <td>30.200000</td>\n",
       "      <td>3355.000000</td>\n",
       "      <td>1.810000</td>\n",
       "      <td>65.300000</td>\n",
       "      <td>1.795000</td>\n",
       "      <td>1330.000000</td>\n",
       "    </tr>\n",
       "    <tr>\n",
       "      <td>50%</td>\n",
       "      <td>19.300000</td>\n",
       "      <td>35.000000</td>\n",
       "      <td>6.320000</td>\n",
       "      <td>43.300000</td>\n",
       "      <td>9960.000000</td>\n",
       "      <td>5.390000</td>\n",
       "      <td>73.100000</td>\n",
       "      <td>2.410000</td>\n",
       "      <td>4660.000000</td>\n",
       "    </tr>\n",
       "    <tr>\n",
       "      <td>75%</td>\n",
       "      <td>62.100000</td>\n",
       "      <td>51.350000</td>\n",
       "      <td>8.600000</td>\n",
       "      <td>58.750000</td>\n",
       "      <td>22800.000000</td>\n",
       "      <td>10.750000</td>\n",
       "      <td>76.800000</td>\n",
       "      <td>3.880000</td>\n",
       "      <td>14050.000000</td>\n",
       "    </tr>\n",
       "    <tr>\n",
       "      <td>max</td>\n",
       "      <td>208.000000</td>\n",
       "      <td>200.000000</td>\n",
       "      <td>17.900000</td>\n",
       "      <td>174.000000</td>\n",
       "      <td>125000.000000</td>\n",
       "      <td>104.000000</td>\n",
       "      <td>82.800000</td>\n",
       "      <td>7.490000</td>\n",
       "      <td>105000.000000</td>\n",
       "    </tr>\n",
       "  </tbody>\n",
       "</table>\n",
       "</div>"
      ],
      "text/plain": [
       "       child_mort     exports      health     imports         income  \\\n",
       "count  167.000000  167.000000  167.000000  167.000000     167.000000   \n",
       "mean    38.270060   41.108976    6.815689   46.890215   17144.688623   \n",
       "std     40.328931   27.412010    2.746837   24.209589   19278.067698   \n",
       "min      2.600000    0.109000    1.810000    0.065900     609.000000   \n",
       "25%      8.250000   23.800000    4.920000   30.200000    3355.000000   \n",
       "50%     19.300000   35.000000    6.320000   43.300000    9960.000000   \n",
       "75%     62.100000   51.350000    8.600000   58.750000   22800.000000   \n",
       "max    208.000000  200.000000   17.900000  174.000000  125000.000000   \n",
       "\n",
       "        inflation  life_expec   total_fer           gdpp  \n",
       "count  167.000000  167.000000  167.000000     167.000000  \n",
       "mean     7.781832   70.555689    2.947964   12964.155689  \n",
       "std     10.570704    8.893172    1.513848   18328.704809  \n",
       "min     -4.210000   32.100000    1.150000     231.000000  \n",
       "25%      1.810000   65.300000    1.795000    1330.000000  \n",
       "50%      5.390000   73.100000    2.410000    4660.000000  \n",
       "75%     10.750000   76.800000    3.880000   14050.000000  \n",
       "max    104.000000   82.800000    7.490000  105000.000000  "
      ]
     },
     "execution_count": 6,
     "metadata": {},
     "output_type": "execute_result"
    }
   ],
   "source": [
    "countries_raw_df.describe()"
   ]
  },
  {
   "cell_type": "markdown",
   "metadata": {},
   "source": [
    "## Task 2: Cleaning the Data\n",
    "\n",
    "-  ### Subtask 2.1: Converting %age values to actual numbers\n",
    "\n",
    "Convert the dataframe's exports, health and imports columns %age values to actual numbers."
   ]
  },
  {
   "cell_type": "code",
   "execution_count": 7,
   "metadata": {},
   "outputs": [],
   "source": [
    "# Converting exports column\n",
    "countries_raw_df['exports'] = (countries_raw_df['exports']/100)*countries_raw_df['gdpp']"
   ]
  },
  {
   "cell_type": "code",
   "execution_count": 8,
   "metadata": {},
   "outputs": [],
   "source": [
    "# Converting health column\n",
    "countries_raw_df['health'] = (countries_raw_df['health']/100)*countries_raw_df['gdpp']"
   ]
  },
  {
   "cell_type": "code",
   "execution_count": 9,
   "metadata": {},
   "outputs": [],
   "source": [
    "# Converting imports column\n",
    "countries_raw_df['imports'] = (countries_raw_df['imports']/100)*countries_raw_df['gdpp']"
   ]
  },
  {
   "cell_type": "code",
   "execution_count": 10,
   "metadata": {},
   "outputs": [
    {
     "data": {
      "text/html": [
       "<div>\n",
       "<style scoped>\n",
       "    .dataframe tbody tr th:only-of-type {\n",
       "        vertical-align: middle;\n",
       "    }\n",
       "\n",
       "    .dataframe tbody tr th {\n",
       "        vertical-align: top;\n",
       "    }\n",
       "\n",
       "    .dataframe thead th {\n",
       "        text-align: right;\n",
       "    }\n",
       "</style>\n",
       "<table border=\"1\" class=\"dataframe\">\n",
       "  <thead>\n",
       "    <tr style=\"text-align: right;\">\n",
       "      <th></th>\n",
       "      <th>country</th>\n",
       "      <th>child_mort</th>\n",
       "      <th>exports</th>\n",
       "      <th>health</th>\n",
       "      <th>imports</th>\n",
       "      <th>income</th>\n",
       "      <th>inflation</th>\n",
       "      <th>life_expec</th>\n",
       "      <th>total_fer</th>\n",
       "      <th>gdpp</th>\n",
       "    </tr>\n",
       "  </thead>\n",
       "  <tbody>\n",
       "    <tr>\n",
       "      <td>0</td>\n",
       "      <td>Afghanistan</td>\n",
       "      <td>90.2</td>\n",
       "      <td>55.30</td>\n",
       "      <td>41.9174</td>\n",
       "      <td>248.297</td>\n",
       "      <td>1610</td>\n",
       "      <td>9.44</td>\n",
       "      <td>56.2</td>\n",
       "      <td>5.82</td>\n",
       "      <td>553</td>\n",
       "    </tr>\n",
       "    <tr>\n",
       "      <td>1</td>\n",
       "      <td>Albania</td>\n",
       "      <td>16.6</td>\n",
       "      <td>1145.20</td>\n",
       "      <td>267.8950</td>\n",
       "      <td>1987.740</td>\n",
       "      <td>9930</td>\n",
       "      <td>4.49</td>\n",
       "      <td>76.3</td>\n",
       "      <td>1.65</td>\n",
       "      <td>4090</td>\n",
       "    </tr>\n",
       "    <tr>\n",
       "      <td>2</td>\n",
       "      <td>Algeria</td>\n",
       "      <td>27.3</td>\n",
       "      <td>1712.64</td>\n",
       "      <td>185.9820</td>\n",
       "      <td>1400.440</td>\n",
       "      <td>12900</td>\n",
       "      <td>16.10</td>\n",
       "      <td>76.5</td>\n",
       "      <td>2.89</td>\n",
       "      <td>4460</td>\n",
       "    </tr>\n",
       "    <tr>\n",
       "      <td>3</td>\n",
       "      <td>Angola</td>\n",
       "      <td>119.0</td>\n",
       "      <td>2199.19</td>\n",
       "      <td>100.6050</td>\n",
       "      <td>1514.370</td>\n",
       "      <td>5900</td>\n",
       "      <td>22.40</td>\n",
       "      <td>60.1</td>\n",
       "      <td>6.16</td>\n",
       "      <td>3530</td>\n",
       "    </tr>\n",
       "    <tr>\n",
       "      <td>4</td>\n",
       "      <td>Antigua and Barbuda</td>\n",
       "      <td>10.3</td>\n",
       "      <td>5551.00</td>\n",
       "      <td>735.6600</td>\n",
       "      <td>7185.800</td>\n",
       "      <td>19100</td>\n",
       "      <td>1.44</td>\n",
       "      <td>76.8</td>\n",
       "      <td>2.13</td>\n",
       "      <td>12200</td>\n",
       "    </tr>\n",
       "  </tbody>\n",
       "</table>\n",
       "</div>"
      ],
      "text/plain": [
       "               country  child_mort  exports    health   imports  income  \\\n",
       "0          Afghanistan        90.2    55.30   41.9174   248.297    1610   \n",
       "1              Albania        16.6  1145.20  267.8950  1987.740    9930   \n",
       "2              Algeria        27.3  1712.64  185.9820  1400.440   12900   \n",
       "3               Angola       119.0  2199.19  100.6050  1514.370    5900   \n",
       "4  Antigua and Barbuda        10.3  5551.00  735.6600  7185.800   19100   \n",
       "\n",
       "   inflation  life_expec  total_fer   gdpp  \n",
       "0       9.44        56.2       5.82    553  \n",
       "1       4.49        76.3       1.65   4090  \n",
       "2      16.10        76.5       2.89   4460  \n",
       "3      22.40        60.1       6.16   3530  \n",
       "4       1.44        76.8       2.13  12200  "
      ]
     },
     "execution_count": 10,
     "metadata": {},
     "output_type": "execute_result"
    }
   ],
   "source": [
    "countries_raw_df.head()"
   ]
  },
  {
   "cell_type": "markdown",
   "metadata": {},
   "source": [
    "-  ### Subtask 2.2: Inspect Null values"
   ]
  },
  {
   "cell_type": "code",
   "execution_count": 11,
   "metadata": {},
   "outputs": [
    {
     "data": {
      "text/plain": [
       "country       0\n",
       "child_mort    0\n",
       "exports       0\n",
       "health        0\n",
       "imports       0\n",
       "income        0\n",
       "inflation     0\n",
       "life_expec    0\n",
       "total_fer     0\n",
       "gdpp          0\n",
       "dtype: int64"
      ]
     },
     "execution_count": 11,
     "metadata": {},
     "output_type": "execute_result"
    }
   ],
   "source": [
    "countries_raw_df.isnull().sum(axis = 0)"
   ]
  },
  {
   "cell_type": "markdown",
   "metadata": {},
   "source": [
    "## Task 3: Visualising the Data\n",
    "\n",
    "We'll visualise our data using `matplotlib` and `seaborn`."
   ]
  },
  {
   "cell_type": "code",
   "execution_count": 12,
   "metadata": {},
   "outputs": [
    {
     "data": {
      "image/png": "[encoded data removed]",
      "text/plain": [
       "<Figure size 1080x1080 with 9 Axes>"
      ]
     },
     "metadata": {
      "needs_background": "light"
     },
     "output_type": "display_data"
    }
   ],
   "source": [
    "plt.figure(figsize=(15,15))\n",
    "features = ['child_mort', 'exports', 'health', 'imports', 'income', 'inflation', 'life_expec', 'total_fer', 'gdpp']\n",
    "for i in enumerate(features):\n",
    "    ax = plt.subplot(5, 2, i[0]+1)\n",
    "    sns.distplot(countries_raw_df[i[1]])\n",
    "    plt.xticks(rotation = 20)"
   ]
  },
  {
   "cell_type": "markdown",
   "metadata": {},
   "source": [
    "## Task 4: Data preparation for clustering\n",
    "\n",
    "-  ### Subtask 4.1: Outliers Treatment"
   ]
  },
  {
   "cell_type": "code",
   "execution_count": 13,
   "metadata": {},
   "outputs": [
    {
     "data": {
      "text/plain": [
       "Index(['country', 'child_mort', 'exports', 'health', 'imports', 'income',\n",
       "       'inflation', 'life_expec', 'total_fer', 'gdpp'],\n",
       "      dtype='object')"
      ]
     },
     "execution_count": 13,
     "metadata": {},
     "output_type": "execute_result"
    }
   ],
   "source": [
    "countries_raw_df.columns"
   ]
  },
  {
   "cell_type": "code",
   "execution_count": 14,
   "metadata": {},
   "outputs": [
    {
     "data": {
      "image/png": "[encoded data removed]",
      "text/plain": [
       "<Figure size 1440x1800 with 9 Axes>"
      ]
     },
     "metadata": {
      "needs_background": "light"
     },
     "output_type": "display_data"
    }
   ],
   "source": [
    "plt.figure(figsize=(20,25))\n",
    "features = ['child_mort', 'exports', 'health', 'imports', 'income', 'inflation', 'life_expec', 'total_fer', 'gdpp']\n",
    "for i in enumerate(features): \n",
    "    ax = plt.subplot(5, 2, i[0]+1)\n",
    "    sns.boxplot(x=i[1], data=countries_raw_df)\n",
    "    plt.xticks(rotation = 20)"
   ]
  },
  {
   "cell_type": "code",
   "execution_count": 15,
   "metadata": {},
   "outputs": [],
   "source": [
    "# Capping of data to treat outliers\n",
    "features = ['child_mort', 'exports', 'health', 'imports', 'income', 'inflation', 'life_expec', 'total_fer', 'gdpp']\n",
    "for feature in features:\n",
    "    countries_raw_df[feature] = np.where(countries_raw_df[feature] <countries_raw_df[feature].quantile(0.01), countries_raw_df[feature].quantile(0.01),countries_raw_df[feature])\n",
    "    countries_raw_df[feature] = np.where(countries_raw_df[feature] >countries_raw_df[feature].quantile(0.99), countries_raw_df[feature].quantile(0.99),countries_raw_df[feature])"
   ]
  },
  {
   "cell_type": "code",
   "execution_count": 16,
   "metadata": {},
   "outputs": [
    {
     "data": {
      "image/png": "[encoded data removed]",
      "text/plain": [
       "<Figure size 1440x1800 with 9 Axes>"
      ]
     },
     "metadata": {
      "needs_background": "light"
     },
     "output_type": "display_data"
    }
   ],
   "source": [
    "# Again checking the boxplot for variables\n",
    "plt.figure(figsize=(20,25))\n",
    "features = ['child_mort', 'exports', 'health', 'imports', 'income', 'inflation', 'life_expec', 'total_fer', 'gdpp']\n",
    "for i in enumerate(features): \n",
    "    ax = plt.subplot(5, 2, i[0]+1)\n",
    "    sns.boxplot(x=i[1], data=countries_raw_df)\n",
    "    plt.xticks(rotation = 20)"
   ]
  },
  {
   "cell_type": "code",
   "execution_count": 17,
   "metadata": {},
   "outputs": [
    {
     "data": {
      "text/plain": [
       "(167, 10)"
      ]
     },
     "execution_count": 17,
     "metadata": {},
     "output_type": "execute_result"
    }
   ],
   "source": [
    "# Checking the countries data after outlier treatment\n",
    "countries_raw_df.shape"
   ]
  },
  {
   "cell_type": "markdown",
   "metadata": {},
   "source": [
    "-  ### Subtask 4.2: Hopkins Check"
   ]
  },
  {
   "cell_type": "code",
   "execution_count": 18,
   "metadata": {},
   "outputs": [],
   "source": [
    "#Calculating the Hopkins statistic\n",
    "from sklearn.neighbors import NearestNeighbors\n",
    "from random import sample\n",
    "from numpy.random import uniform\n",
    "import numpy as np\n",
    "from math import isnan\n",
    " \n",
    "def hopkins(X):\n",
    "    d = X.shape[1]\n",
    "    #d = len(vars) # columns\n",
    "    n = len(X) # rows\n",
    "    m = int(0.1 * n) \n",
    "    nbrs = NearestNeighbors(n_neighbors=1).fit(X.values)\n",
    " \n",
    "    rand_X = sample(range(0, n, 1), m)\n",
    " \n",
    "    ujd = []\n",
    "    wjd = []\n",
    "    for j in range(0, m):\n",
    "        u_dist, _ = nbrs.kneighbors(uniform(np.amin(X,axis=0),np.amax(X,axis=0),d).reshape(1, -1), 2, return_distance=True)\n",
    "        ujd.append(u_dist[0][1])\n",
    "        w_dist, _ = nbrs.kneighbors(X.iloc[rand_X[j]].values.reshape(1, -1), 2, return_distance=True)\n",
    "        wjd.append(w_dist[0][1])\n",
    " \n",
    "    H = sum(ujd) / (sum(ujd) + sum(wjd))\n",
    "    if isnan(H):\n",
    "        print(ujd, wjd)\n",
    "        H = 0\n",
    " \n",
    "    return H"
   ]
  },
  {
   "cell_type": "code",
   "execution_count": 19,
   "metadata": {},
   "outputs": [
    {
     "data": {
      "text/plain": [
       "0.9411494258416905"
      ]
     },
     "execution_count": 19,
     "metadata": {},
     "output_type": "execute_result"
    }
   ],
   "source": [
    "hopkins(countries_raw_df.drop('country', axis = 1))"
   ]
  },
  {
   "cell_type": "markdown",
   "metadata": {},
   "source": [
    "-  ### Subtask 4.3: Scaling the data"
   ]
  },
  {
   "cell_type": "code",
   "execution_count": 20,
   "metadata": {},
   "outputs": [],
   "source": [
    "# Now for perfroming clustering, we need to drop the 'country' column, Let's drop it\n",
    "df1 = countries_raw_df.drop('country', axis = 1)"
   ]
  },
  {
   "cell_type": "code",
   "execution_count": 21,
   "metadata": {},
   "outputs": [
    {
     "data": {
      "text/html": [
       "<div>\n",
       "<style scoped>\n",
       "    .dataframe tbody tr th:only-of-type {\n",
       "        vertical-align: middle;\n",
       "    }\n",
       "\n",
       "    .dataframe tbody tr th {\n",
       "        vertical-align: top;\n",
       "    }\n",
       "\n",
       "    .dataframe thead th {\n",
       "        text-align: right;\n",
       "    }\n",
       "</style>\n",
       "<table border=\"1\" class=\"dataframe\">\n",
       "  <thead>\n",
       "    <tr style=\"text-align: right;\">\n",
       "      <th></th>\n",
       "      <th>child_mort</th>\n",
       "      <th>exports</th>\n",
       "      <th>health</th>\n",
       "      <th>imports</th>\n",
       "      <th>income</th>\n",
       "      <th>inflation</th>\n",
       "      <th>life_expec</th>\n",
       "      <th>total_fer</th>\n",
       "      <th>gdpp</th>\n",
       "    </tr>\n",
       "  </thead>\n",
       "  <tbody>\n",
       "    <tr>\n",
       "      <td>0</td>\n",
       "      <td>90.2</td>\n",
       "      <td>55.30</td>\n",
       "      <td>41.9174</td>\n",
       "      <td>248.297</td>\n",
       "      <td>1610.0</td>\n",
       "      <td>9.44</td>\n",
       "      <td>56.2</td>\n",
       "      <td>5.82</td>\n",
       "      <td>553.0</td>\n",
       "    </tr>\n",
       "    <tr>\n",
       "      <td>1</td>\n",
       "      <td>16.6</td>\n",
       "      <td>1145.20</td>\n",
       "      <td>267.8950</td>\n",
       "      <td>1987.740</td>\n",
       "      <td>9930.0</td>\n",
       "      <td>4.49</td>\n",
       "      <td>76.3</td>\n",
       "      <td>1.65</td>\n",
       "      <td>4090.0</td>\n",
       "    </tr>\n",
       "    <tr>\n",
       "      <td>2</td>\n",
       "      <td>27.3</td>\n",
       "      <td>1712.64</td>\n",
       "      <td>185.9820</td>\n",
       "      <td>1400.440</td>\n",
       "      <td>12900.0</td>\n",
       "      <td>16.10</td>\n",
       "      <td>76.5</td>\n",
       "      <td>2.89</td>\n",
       "      <td>4460.0</td>\n",
       "    </tr>\n",
       "    <tr>\n",
       "      <td>3</td>\n",
       "      <td>119.0</td>\n",
       "      <td>2199.19</td>\n",
       "      <td>100.6050</td>\n",
       "      <td>1514.370</td>\n",
       "      <td>5900.0</td>\n",
       "      <td>22.40</td>\n",
       "      <td>60.1</td>\n",
       "      <td>6.16</td>\n",
       "      <td>3530.0</td>\n",
       "    </tr>\n",
       "    <tr>\n",
       "      <td>4</td>\n",
       "      <td>10.3</td>\n",
       "      <td>5551.00</td>\n",
       "      <td>735.6600</td>\n",
       "      <td>7185.800</td>\n",
       "      <td>19100.0</td>\n",
       "      <td>1.44</td>\n",
       "      <td>76.8</td>\n",
       "      <td>2.13</td>\n",
       "      <td>12200.0</td>\n",
       "    </tr>\n",
       "  </tbody>\n",
       "</table>\n",
       "</div>"
      ],
      "text/plain": [
       "   child_mort  exports    health   imports   income  inflation  life_expec  \\\n",
       "0        90.2    55.30   41.9174   248.297   1610.0       9.44        56.2   \n",
       "1        16.6  1145.20  267.8950  1987.740   9930.0       4.49        76.3   \n",
       "2        27.3  1712.64  185.9820  1400.440  12900.0      16.10        76.5   \n",
       "3       119.0  2199.19  100.6050  1514.370   5900.0      22.40        60.1   \n",
       "4        10.3  5551.00  735.6600  7185.800  19100.0       1.44        76.8   \n",
       "\n",
       "   total_fer     gdpp  \n",
       "0       5.82    553.0  \n",
       "1       1.65   4090.0  \n",
       "2       2.89   4460.0  \n",
       "3       6.16   3530.0  \n",
       "4       2.13  12200.0  "
      ]
     },
     "execution_count": 21,
     "metadata": {},
     "output_type": "execute_result"
    }
   ],
   "source": [
    "df1.head()"
   ]
  },
  {
   "cell_type": "code",
   "execution_count": 22,
   "metadata": {},
   "outputs": [],
   "source": [
    "from sklearn.preprocessing import StandardScaler\n",
    "standard_scaler = StandardScaler()\n",
    "df1 = standard_scaler.fit_transform(df1)"
   ]
  },
  {
   "cell_type": "code",
   "execution_count": 23,
   "metadata": {},
   "outputs": [
    {
     "data": {
      "text/html": [
       "<div>\n",
       "<style scoped>\n",
       "    .dataframe tbody tr th:only-of-type {\n",
       "        vertical-align: middle;\n",
       "    }\n",
       "\n",
       "    .dataframe tbody tr th {\n",
       "        vertical-align: top;\n",
       "    }\n",
       "\n",
       "    .dataframe thead th {\n",
       "        text-align: right;\n",
       "    }\n",
       "</style>\n",
       "<table border=\"1\" class=\"dataframe\">\n",
       "  <thead>\n",
       "    <tr style=\"text-align: right;\">\n",
       "      <th></th>\n",
       "      <th>child_mort</th>\n",
       "      <th>exports</th>\n",
       "      <th>health</th>\n",
       "      <th>imports</th>\n",
       "      <th>income</th>\n",
       "      <th>inflation</th>\n",
       "      <th>life_expec</th>\n",
       "      <th>total_fer</th>\n",
       "      <th>gdpp</th>\n",
       "    </tr>\n",
       "  </thead>\n",
       "  <tbody>\n",
       "    <tr>\n",
       "      <td>0</td>\n",
       "      <td>1.344012</td>\n",
       "      <td>-0.569638</td>\n",
       "      <td>-0.566983</td>\n",
       "      <td>-0.598844</td>\n",
       "      <td>-0.851772</td>\n",
       "      <td>0.263649</td>\n",
       "      <td>-1.693799</td>\n",
       "      <td>1.926928</td>\n",
       "      <td>-0.702314</td>\n",
       "    </tr>\n",
       "    <tr>\n",
       "      <td>1</td>\n",
       "      <td>-0.547543</td>\n",
       "      <td>-0.473873</td>\n",
       "      <td>-0.440417</td>\n",
       "      <td>-0.413679</td>\n",
       "      <td>-0.387025</td>\n",
       "      <td>-0.375251</td>\n",
       "      <td>0.663053</td>\n",
       "      <td>-0.865911</td>\n",
       "      <td>-0.498775</td>\n",
       "    </tr>\n",
       "    <tr>\n",
       "      <td>2</td>\n",
       "      <td>-0.272548</td>\n",
       "      <td>-0.424015</td>\n",
       "      <td>-0.486295</td>\n",
       "      <td>-0.476198</td>\n",
       "      <td>-0.221124</td>\n",
       "      <td>1.123260</td>\n",
       "      <td>0.686504</td>\n",
       "      <td>-0.035427</td>\n",
       "      <td>-0.477483</td>\n",
       "    </tr>\n",
       "    <tr>\n",
       "      <td>3</td>\n",
       "      <td>2.084186</td>\n",
       "      <td>-0.381264</td>\n",
       "      <td>-0.534113</td>\n",
       "      <td>-0.464070</td>\n",
       "      <td>-0.612136</td>\n",
       "      <td>1.936405</td>\n",
       "      <td>-1.236499</td>\n",
       "      <td>2.154642</td>\n",
       "      <td>-0.531000</td>\n",
       "    </tr>\n",
       "    <tr>\n",
       "      <td>4</td>\n",
       "      <td>-0.709457</td>\n",
       "      <td>-0.086754</td>\n",
       "      <td>-0.178431</td>\n",
       "      <td>0.139659</td>\n",
       "      <td>0.125202</td>\n",
       "      <td>-0.768917</td>\n",
       "      <td>0.721681</td>\n",
       "      <td>-0.544433</td>\n",
       "      <td>-0.032079</td>\n",
       "    </tr>\n",
       "  </tbody>\n",
       "</table>\n",
       "</div>"
      ],
      "text/plain": [
       "   child_mort   exports    health   imports    income  inflation  life_expec  \\\n",
       "0    1.344012 -0.569638 -0.566983 -0.598844 -0.851772   0.263649   -1.693799   \n",
       "1   -0.547543 -0.473873 -0.440417 -0.413679 -0.387025  -0.375251    0.663053   \n",
       "2   -0.272548 -0.424015 -0.486295 -0.476198 -0.221124   1.123260    0.686504   \n",
       "3    2.084186 -0.381264 -0.534113 -0.464070 -0.612136   1.936405   -1.236499   \n",
       "4   -0.709457 -0.086754 -0.178431  0.139659  0.125202  -0.768917    0.721681   \n",
       "\n",
       "   total_fer      gdpp  \n",
       "0   1.926928 -0.702314  \n",
       "1  -0.865911 -0.498775  \n",
       "2  -0.035427 -0.477483  \n",
       "3   2.154642 -0.531000  \n",
       "4  -0.544433 -0.032079  "
      ]
     },
     "execution_count": 23,
     "metadata": {},
     "output_type": "execute_result"
    }
   ],
   "source": [
    "df1 = pd.DataFrame(df1)\n",
    "df1.columns = ['child_mort', 'exports', 'health', 'imports', 'income', 'inflation', 'life_expec', 'total_fer', 'gdpp']\n",
    "df1.head()"
   ]
  },
  {
   "cell_type": "markdown",
   "metadata": {},
   "source": [
    "## Task 5: Clustering\n",
    "\n",
    "-  ### Subtask 5.1: K-MEANS Clustering"
   ]
  },
  {
   "cell_type": "markdown",
   "metadata": {},
   "source": [
    "-  #### Subtask 5.1.1: Choose K using both elbow and silhouette score\n",
    "\n",
    "    1. Look at the silhouette score plot and choose the optimal number of cluster\n"
   ]
  },
  {
   "cell_type": "code",
   "execution_count": 24,
   "metadata": {},
   "outputs": [
    {
     "data": {
      "image/png": "[encoded data removed]",
      "text/plain": [
       "<Figure size 432x288 with 1 Axes>"
      ]
     },
     "metadata": {
      "needs_background": "light"
     },
     "output_type": "display_data"
    }
   ],
   "source": [
    "#First we'll do the silhouette score analysis\n",
    "from sklearn.metrics import silhouette_score\n",
    "ss = []\n",
    "for k in range(2,10):\n",
    "    kmeans = KMeans(n_clusters = k).fit(df1)\n",
    "    ss.append([k, silhouette_score(df1, kmeans.labels_)])\n",
    "    \n",
    "plt.plot(pd.DataFrame(ss)[0], pd.DataFrame(ss)[1]);"
   ]
  },
  {
   "cell_type": "markdown",
   "metadata": {},
   "source": [
    "    2. Look at the Elbow Curve plot and choose the optimal number of cluster"
   ]
  },
  {
   "cell_type": "code",
   "execution_count": 25,
   "metadata": {},
   "outputs": [
    {
     "data": {
      "image/png": "[encoded data removed]",
      "text/plain": [
       "<Figure size 432x288 with 1 Axes>"
      ]
     },
     "metadata": {
      "needs_background": "light"
     },
     "output_type": "display_data"
    }
   ],
   "source": [
    "#Now let's proceed to the elbow curve method\n",
    "ssd = []\n",
    "for k in list(range(1,10)):\n",
    "    model = KMeans(n_clusters = k, max_iter = 50).fit(df1)\n",
    "    ssd.append([k, model.inertia_])\n",
    "    \n",
    "plt.plot(pd.DataFrame(ssd)[0], pd.DataFrame(ssd)[1]);"
   ]
  },
  {
   "cell_type": "markdown",
   "metadata": {},
   "source": [
    "-  #### Subtask 5.1.2: KMeans with the K the we have choosed"
   ]
  },
  {
   "cell_type": "code",
   "execution_count": 26,
   "metadata": {},
   "outputs": [
    {
     "data": {
      "text/plain": [
       "KMeans(algorithm='auto', copy_x=True, init='k-means++', max_iter=50,\n",
       "       n_clusters=3, n_init=10, n_jobs=None, precompute_distances='auto',\n",
       "       random_state=50, tol=0.0001, verbose=0)"
      ]
     },
     "execution_count": 26,
     "metadata": {},
     "output_type": "execute_result"
    }
   ],
   "source": [
    "#Let's perform K means using K=3\n",
    "kmean = KMeans(n_clusters = 3, max_iter = 50, random_state = 50)\n",
    "kmean.fit(df1)"
   ]
  },
  {
   "cell_type": "code",
   "execution_count": 27,
   "metadata": {},
   "outputs": [],
   "source": [
    "## Let's make a copy of our original data before using it for analysis\n",
    "countries_raw_df_org = countries_raw_df.copy()"
   ]
  },
  {
   "cell_type": "code",
   "execution_count": 28,
   "metadata": {},
   "outputs": [
    {
     "data": {
      "text/plain": [
       "Index(['country', 'child_mort', 'exports', 'health', 'imports', 'income',\n",
       "       'inflation', 'life_expec', 'total_fer', 'gdpp'],\n",
       "      dtype='object')"
      ]
     },
     "execution_count": 28,
     "metadata": {},
     "output_type": "execute_result"
    }
   ],
   "source": [
    "countries_raw_df.columns"
   ]
  },
  {
   "cell_type": "code",
   "execution_count": 29,
   "metadata": {},
   "outputs": [
    {
     "data": {
      "text/html": [
       "<div>\n",
       "<style scoped>\n",
       "    .dataframe tbody tr th:only-of-type {\n",
       "        vertical-align: middle;\n",
       "    }\n",
       "\n",
       "    .dataframe tbody tr th {\n",
       "        vertical-align: top;\n",
       "    }\n",
       "\n",
       "    .dataframe thead th {\n",
       "        text-align: right;\n",
       "    }\n",
       "</style>\n",
       "<table border=\"1\" class=\"dataframe\">\n",
       "  <thead>\n",
       "    <tr style=\"text-align: right;\">\n",
       "      <th></th>\n",
       "      <th>country</th>\n",
       "      <th>child_mort</th>\n",
       "      <th>exports</th>\n",
       "      <th>health</th>\n",
       "      <th>imports</th>\n",
       "      <th>income</th>\n",
       "      <th>inflation</th>\n",
       "      <th>life_expec</th>\n",
       "      <th>total_fer</th>\n",
       "      <th>gdpp</th>\n",
       "      <th>cluster_id</th>\n",
       "    </tr>\n",
       "  </thead>\n",
       "  <tbody>\n",
       "    <tr>\n",
       "      <td>0</td>\n",
       "      <td>Afghanistan</td>\n",
       "      <td>90.2</td>\n",
       "      <td>55.30</td>\n",
       "      <td>41.9174</td>\n",
       "      <td>248.297</td>\n",
       "      <td>1610.0</td>\n",
       "      <td>9.44</td>\n",
       "      <td>56.2</td>\n",
       "      <td>5.82</td>\n",
       "      <td>553.0</td>\n",
       "      <td>1</td>\n",
       "    </tr>\n",
       "    <tr>\n",
       "      <td>1</td>\n",
       "      <td>Albania</td>\n",
       "      <td>16.6</td>\n",
       "      <td>1145.20</td>\n",
       "      <td>267.8950</td>\n",
       "      <td>1987.740</td>\n",
       "      <td>9930.0</td>\n",
       "      <td>4.49</td>\n",
       "      <td>76.3</td>\n",
       "      <td>1.65</td>\n",
       "      <td>4090.0</td>\n",
       "      <td>2</td>\n",
       "    </tr>\n",
       "    <tr>\n",
       "      <td>2</td>\n",
       "      <td>Algeria</td>\n",
       "      <td>27.3</td>\n",
       "      <td>1712.64</td>\n",
       "      <td>185.9820</td>\n",
       "      <td>1400.440</td>\n",
       "      <td>12900.0</td>\n",
       "      <td>16.10</td>\n",
       "      <td>76.5</td>\n",
       "      <td>2.89</td>\n",
       "      <td>4460.0</td>\n",
       "      <td>2</td>\n",
       "    </tr>\n",
       "    <tr>\n",
       "      <td>3</td>\n",
       "      <td>Angola</td>\n",
       "      <td>119.0</td>\n",
       "      <td>2199.19</td>\n",
       "      <td>100.6050</td>\n",
       "      <td>1514.370</td>\n",
       "      <td>5900.0</td>\n",
       "      <td>22.40</td>\n",
       "      <td>60.1</td>\n",
       "      <td>6.16</td>\n",
       "      <td>3530.0</td>\n",
       "      <td>1</td>\n",
       "    </tr>\n",
       "    <tr>\n",
       "      <td>4</td>\n",
       "      <td>Antigua and Barbuda</td>\n",
       "      <td>10.3</td>\n",
       "      <td>5551.00</td>\n",
       "      <td>735.6600</td>\n",
       "      <td>7185.800</td>\n",
       "      <td>19100.0</td>\n",
       "      <td>1.44</td>\n",
       "      <td>76.8</td>\n",
       "      <td>2.13</td>\n",
       "      <td>12200.0</td>\n",
       "      <td>2</td>\n",
       "    </tr>\n",
       "  </tbody>\n",
       "</table>\n",
       "</div>"
      ],
      "text/plain": [
       "               country  child_mort  exports    health   imports   income  \\\n",
       "0          Afghanistan        90.2    55.30   41.9174   248.297   1610.0   \n",
       "1              Albania        16.6  1145.20  267.8950  1987.740   9930.0   \n",
       "2              Algeria        27.3  1712.64  185.9820  1400.440  12900.0   \n",
       "3               Angola       119.0  2199.19  100.6050  1514.370   5900.0   \n",
       "4  Antigua and Barbuda        10.3  5551.00  735.6600  7185.800  19100.0   \n",
       "\n",
       "   inflation  life_expec  total_fer     gdpp  cluster_id  \n",
       "0       9.44        56.2       5.82    553.0           1  \n",
       "1       4.49        76.3       1.65   4090.0           2  \n",
       "2      16.10        76.5       2.89   4460.0           2  \n",
       "3      22.40        60.1       6.16   3530.0           1  \n",
       "4       1.44        76.8       2.13  12200.0           2  "
      ]
     },
     "execution_count": 29,
     "metadata": {},
     "output_type": "execute_result"
    }
   ],
   "source": [
    "# Let's add the cluster Ids to the original data \n",
    "df_km = pd.concat([countries_raw_df.reset_index().drop('index', axis = 1), pd.Series(kmean.labels_)], axis = 1)\n",
    "df_km.columns = ['country', 'child_mort', 'exports', 'health', 'imports', 'income', 'inflation', 'life_expec', 'total_fer', 'gdpp', 'cluster_id']\n",
    "df_km.head()"
   ]
  },
  {
   "cell_type": "code",
   "execution_count": 30,
   "metadata": {},
   "outputs": [
    {
     "data": {
      "text/plain": [
       "country       0\n",
       "child_mort    0\n",
       "exports       0\n",
       "health        0\n",
       "imports       0\n",
       "income        0\n",
       "inflation     0\n",
       "life_expec    0\n",
       "total_fer     0\n",
       "gdpp          0\n",
       "cluster_id    0\n",
       "dtype: int64"
      ]
     },
     "execution_count": 30,
     "metadata": {},
     "output_type": "execute_result"
    }
   ],
   "source": [
    "# Cross-check\n",
    "df_km.isnull().sum()"
   ]
  },
  {
   "cell_type": "code",
   "execution_count": 31,
   "metadata": {},
   "outputs": [
    {
     "data": {
      "text/plain": [
       "2    90\n",
       "1    48\n",
       "0    29\n",
       "Name: cluster_id, dtype: int64"
      ]
     },
     "execution_count": 31,
     "metadata": {},
     "output_type": "execute_result"
    }
   ],
   "source": [
    "# Check the count of observation per cluster\n",
    "df_km['cluster_id'].value_counts()"
   ]
  },
  {
   "cell_type": "markdown",
   "metadata": {},
   "source": [
    "-  #### Subtask 5.1.3: Visualize the clusters"
   ]
  },
  {
   "cell_type": "code",
   "execution_count": 32,
   "metadata": {},
   "outputs": [
    {
     "data": {
      "text/plain": [
       "<matplotlib.axes._subplots.AxesSubplot at 0x2d7fdf9ebc8>"
      ]
     },
     "execution_count": 32,
     "metadata": {},
     "output_type": "execute_result"
    },
    {
     "data": {
      "image/png": "[encoded data removed]",
      "text/plain": [
       "<Figure size 432x288 with 1 Axes>"
      ]
     },
     "metadata": {
      "needs_background": "light"
     },
     "output_type": "display_data"
    }
   ],
   "source": [
    "# Plot the Cluster with respect to the clusters obtained\n",
    "sns.scatterplot(x = 'gdpp', y = 'child_mort', hue ='cluster_id', legend = 'full', data = df_km, palette='Set1')"
   ]
  },
  {
   "cell_type": "code",
   "execution_count": 33,
   "metadata": {},
   "outputs": [
    {
     "data": {
      "text/plain": [
       "<matplotlib.axes._subplots.AxesSubplot at 0x2d7fdcdcb88>"
      ]
     },
     "execution_count": 33,
     "metadata": {},
     "output_type": "execute_result"
    },
    {
     "data": {
      "image/png": "[encoded data removed]",
      "text/plain": [
       "<Figure size 432x288 with 1 Axes>"
      ]
     },
     "metadata": {
      "needs_background": "light"
     },
     "output_type": "display_data"
    }
   ],
   "source": [
    "sns.scatterplot(x = 'child_mort', y = 'income', hue ='cluster_id', legend = 'full', data = df_km, palette='Set1')"
   ]
  },
  {
   "cell_type": "code",
   "execution_count": 34,
   "metadata": {},
   "outputs": [
    {
     "data": {
      "text/plain": [
       "<matplotlib.axes._subplots.AxesSubplot at 0x2d7fde3f348>"
      ]
     },
     "execution_count": 34,
     "metadata": {},
     "output_type": "execute_result"
    },
    {
     "data": {
      "image/png": "[encoded data removed]",
      "text/plain": [
       "<Figure size 432x288 with 1 Axes>"
      ]
     },
     "metadata": {
      "needs_background": "light"
     },
     "output_type": "display_data"
    }
   ],
   "source": [
    "sns.scatterplot(x = 'gdpp', y = 'income', hue ='cluster_id', legend = 'full', data = df_km, palette='Set1')"
   ]
  },
  {
   "cell_type": "markdown",
   "metadata": {},
   "source": [
    "-  #### Subtask 5.1.4: Cluster Profiling"
   ]
  },
  {
   "cell_type": "code",
   "execution_count": 35,
   "metadata": {},
   "outputs": [
    {
     "data": {
      "text/html": [
       "<div>\n",
       "<style scoped>\n",
       "    .dataframe tbody tr th:only-of-type {\n",
       "        vertical-align: middle;\n",
       "    }\n",
       "\n",
       "    .dataframe tbody tr th {\n",
       "        vertical-align: top;\n",
       "    }\n",
       "\n",
       "    .dataframe thead th {\n",
       "        text-align: right;\n",
       "    }\n",
       "</style>\n",
       "<table border=\"1\" class=\"dataframe\">\n",
       "  <thead>\n",
       "    <tr style=\"text-align: right;\">\n",
       "      <th></th>\n",
       "      <th>country</th>\n",
       "      <th>child_mort</th>\n",
       "      <th>exports</th>\n",
       "      <th>health</th>\n",
       "      <th>imports</th>\n",
       "      <th>income</th>\n",
       "      <th>inflation</th>\n",
       "      <th>life_expec</th>\n",
       "      <th>total_fer</th>\n",
       "      <th>gdpp</th>\n",
       "      <th>cluster_id</th>\n",
       "    </tr>\n",
       "  </thead>\n",
       "  <tbody>\n",
       "    <tr>\n",
       "      <td>0</td>\n",
       "      <td>Afghanistan</td>\n",
       "      <td>90.2</td>\n",
       "      <td>55.30</td>\n",
       "      <td>41.9174</td>\n",
       "      <td>248.297</td>\n",
       "      <td>1610.0</td>\n",
       "      <td>9.44</td>\n",
       "      <td>56.2</td>\n",
       "      <td>5.82</td>\n",
       "      <td>553.0</td>\n",
       "      <td>1</td>\n",
       "    </tr>\n",
       "    <tr>\n",
       "      <td>1</td>\n",
       "      <td>Albania</td>\n",
       "      <td>16.6</td>\n",
       "      <td>1145.20</td>\n",
       "      <td>267.8950</td>\n",
       "      <td>1987.740</td>\n",
       "      <td>9930.0</td>\n",
       "      <td>4.49</td>\n",
       "      <td>76.3</td>\n",
       "      <td>1.65</td>\n",
       "      <td>4090.0</td>\n",
       "      <td>2</td>\n",
       "    </tr>\n",
       "    <tr>\n",
       "      <td>2</td>\n",
       "      <td>Algeria</td>\n",
       "      <td>27.3</td>\n",
       "      <td>1712.64</td>\n",
       "      <td>185.9820</td>\n",
       "      <td>1400.440</td>\n",
       "      <td>12900.0</td>\n",
       "      <td>16.10</td>\n",
       "      <td>76.5</td>\n",
       "      <td>2.89</td>\n",
       "      <td>4460.0</td>\n",
       "      <td>2</td>\n",
       "    </tr>\n",
       "    <tr>\n",
       "      <td>3</td>\n",
       "      <td>Angola</td>\n",
       "      <td>119.0</td>\n",
       "      <td>2199.19</td>\n",
       "      <td>100.6050</td>\n",
       "      <td>1514.370</td>\n",
       "      <td>5900.0</td>\n",
       "      <td>22.40</td>\n",
       "      <td>60.1</td>\n",
       "      <td>6.16</td>\n",
       "      <td>3530.0</td>\n",
       "      <td>1</td>\n",
       "    </tr>\n",
       "    <tr>\n",
       "      <td>4</td>\n",
       "      <td>Antigua and Barbuda</td>\n",
       "      <td>10.3</td>\n",
       "      <td>5551.00</td>\n",
       "      <td>735.6600</td>\n",
       "      <td>7185.800</td>\n",
       "      <td>19100.0</td>\n",
       "      <td>1.44</td>\n",
       "      <td>76.8</td>\n",
       "      <td>2.13</td>\n",
       "      <td>12200.0</td>\n",
       "      <td>2</td>\n",
       "    </tr>\n",
       "  </tbody>\n",
       "</table>\n",
       "</div>"
      ],
      "text/plain": [
       "               country  child_mort  exports    health   imports   income  \\\n",
       "0          Afghanistan        90.2    55.30   41.9174   248.297   1610.0   \n",
       "1              Albania        16.6  1145.20  267.8950  1987.740   9930.0   \n",
       "2              Algeria        27.3  1712.64  185.9820  1400.440  12900.0   \n",
       "3               Angola       119.0  2199.19  100.6050  1514.370   5900.0   \n",
       "4  Antigua and Barbuda        10.3  5551.00  735.6600  7185.800  19100.0   \n",
       "\n",
       "   inflation  life_expec  total_fer     gdpp  cluster_id  \n",
       "0       9.44        56.2       5.82    553.0           1  \n",
       "1       4.49        76.3       1.65   4090.0           2  \n",
       "2      16.10        76.5       2.89   4460.0           2  \n",
       "3      22.40        60.1       6.16   3530.0           1  \n",
       "4       1.44        76.8       2.13  12200.0           2  "
      ]
     },
     "execution_count": 35,
     "metadata": {},
     "output_type": "execute_result"
    }
   ],
   "source": [
    "df_km.head()"
   ]
  },
  {
   "cell_type": "code",
   "execution_count": 36,
   "metadata": {},
   "outputs": [
    {
     "data": {
      "text/html": [
       "<div>\n",
       "<style scoped>\n",
       "    .dataframe tbody tr th:only-of-type {\n",
       "        vertical-align: middle;\n",
       "    }\n",
       "\n",
       "    .dataframe tbody tr th {\n",
       "        vertical-align: top;\n",
       "    }\n",
       "\n",
       "    .dataframe thead th {\n",
       "        text-align: right;\n",
       "    }\n",
       "</style>\n",
       "<table border=\"1\" class=\"dataframe\">\n",
       "  <thead>\n",
       "    <tr style=\"text-align: right;\">\n",
       "      <th></th>\n",
       "      <th>child_mort</th>\n",
       "      <th>exports</th>\n",
       "      <th>health</th>\n",
       "      <th>imports</th>\n",
       "      <th>income</th>\n",
       "      <th>inflation</th>\n",
       "      <th>life_expec</th>\n",
       "      <th>total_fer</th>\n",
       "      <th>gdpp</th>\n",
       "    </tr>\n",
       "    <tr>\n",
       "      <th>cluster_id</th>\n",
       "      <th></th>\n",
       "      <th></th>\n",
       "      <th></th>\n",
       "      <th></th>\n",
       "      <th></th>\n",
       "      <th></th>\n",
       "      <th></th>\n",
       "      <th></th>\n",
       "      <th></th>\n",
       "    </tr>\n",
       "  </thead>\n",
       "  <tbody>\n",
       "    <tr>\n",
       "      <td>0</td>\n",
       "      <td>4.989655</td>\n",
       "      <td>25405.359310</td>\n",
       "      <td>4239.330028</td>\n",
       "      <td>21316.695862</td>\n",
       "      <td>47784.413793</td>\n",
       "      <td>2.906731</td>\n",
       "      <td>80.453103</td>\n",
       "      <td>1.757352</td>\n",
       "      <td>46068.137931</td>\n",
       "    </tr>\n",
       "    <tr>\n",
       "      <td>1</td>\n",
       "      <td>90.335417</td>\n",
       "      <td>879.097657</td>\n",
       "      <td>114.939003</td>\n",
       "      <td>827.327888</td>\n",
       "      <td>3901.010000</td>\n",
       "      <td>10.608604</td>\n",
       "      <td>59.567083</td>\n",
       "      <td>4.972233</td>\n",
       "      <td>1911.400833</td>\n",
       "    </tr>\n",
       "    <tr>\n",
       "      <td>2</td>\n",
       "      <td>20.547778</td>\n",
       "      <td>3477.250726</td>\n",
       "      <td>528.894338</td>\n",
       "      <td>3589.291996</td>\n",
       "      <td>13804.333333</td>\n",
       "      <td>7.131624</td>\n",
       "      <td>73.393333</td>\n",
       "      <td>2.242591</td>\n",
       "      <td>7808.577778</td>\n",
       "    </tr>\n",
       "  </tbody>\n",
       "</table>\n",
       "</div>"
      ],
      "text/plain": [
       "            child_mort       exports       health       imports        income  \\\n",
       "cluster_id                                                                      \n",
       "0             4.989655  25405.359310  4239.330028  21316.695862  47784.413793   \n",
       "1            90.335417    879.097657   114.939003    827.327888   3901.010000   \n",
       "2            20.547778   3477.250726   528.894338   3589.291996  13804.333333   \n",
       "\n",
       "            inflation  life_expec  total_fer          gdpp  \n",
       "cluster_id                                                  \n",
       "0            2.906731   80.453103   1.757352  46068.137931  \n",
       "1           10.608604   59.567083   4.972233   1911.400833  \n",
       "2            7.131624   73.393333   2.242591   7808.577778  "
      ]
     },
     "execution_count": 36,
     "metadata": {},
     "output_type": "execute_result"
    }
   ],
   "source": [
    "df_km.groupby('cluster_id').mean()"
   ]
  },
  {
   "cell_type": "code",
   "execution_count": 37,
   "metadata": {},
   "outputs": [
    {
     "data": {
      "text/plain": [
       "<matplotlib.axes._subplots.AxesSubplot at 0x2d7fde8ed48>"
      ]
     },
     "execution_count": 37,
     "metadata": {},
     "output_type": "execute_result"
    },
    {
     "data": {
      "image/png": "[encoded data removed]",
      "text/plain": [
       "<Figure size 432x288 with 1 Axes>"
      ]
     },
     "metadata": {
      "needs_background": "light"
     },
     "output_type": "display_data"
    }
   ],
   "source": [
    "df_km.groupby('cluster_id').mean().plot(kind = 'bar')"
   ]
  },
  {
   "cell_type": "code",
   "execution_count": 38,
   "metadata": {},
   "outputs": [
    {
     "data": {
      "text/plain": [
       "<matplotlib.axes._subplots.AxesSubplot at 0x2d7fe2fc108>"
      ]
     },
     "execution_count": 38,
     "metadata": {},
     "output_type": "execute_result"
    },
    {
     "data": {
      "image/png": "[encoded data removed]",
      "text/plain": [
       "<Figure size 432x288 with 1 Axes>"
      ]
     },
     "metadata": {
      "needs_background": "light"
     },
     "output_type": "display_data"
    }
   ],
   "source": [
    "df_km[['gdpp', 'child_mort', 'income', 'cluster_id']].groupby('cluster_id').mean().plot(kind = 'bar')"
   ]
  },
  {
   "cell_type": "markdown",
   "metadata": {},
   "source": [
    "-  #### Subtask 5.1.5: Finding the observations that belong to certain cluster"
   ]
  },
  {
   "cell_type": "code",
   "execution_count": 39,
   "metadata": {},
   "outputs": [
    {
     "data": {
      "text/plain": [
       "0                   Afghanistan\n",
       "3                        Angola\n",
       "17                        Benin\n",
       "21                     Botswana\n",
       "25                 Burkina Faso\n",
       "26                      Burundi\n",
       "28                     Cameroon\n",
       "31     Central African Republic\n",
       "32                         Chad\n",
       "36                      Comoros\n",
       "37             Congo, Dem. Rep.\n",
       "38                  Congo, Rep.\n",
       "40                Cote d'Ivoire\n",
       "49            Equatorial Guinea\n",
       "50                      Eritrea\n",
       "55                        Gabon\n",
       "56                       Gambia\n",
       "59                        Ghana\n",
       "63                       Guinea\n",
       "64                Guinea-Bissau\n",
       "66                        Haiti\n",
       "72                         Iraq\n",
       "80                        Kenya\n",
       "81                     Kiribati\n",
       "84                          Lao\n",
       "87                      Lesotho\n",
       "88                      Liberia\n",
       "93                   Madagascar\n",
       "94                       Malawi\n",
       "97                         Mali\n",
       "99                   Mauritania\n",
       "106                  Mozambique\n",
       "108                     Namibia\n",
       "112                       Niger\n",
       "113                     Nigeria\n",
       "116                    Pakistan\n",
       "126                      Rwanda\n",
       "129                     Senegal\n",
       "132                Sierra Leone\n",
       "136             Solomon Islands\n",
       "137                South Africa\n",
       "142                       Sudan\n",
       "147                    Tanzania\n",
       "149                 Timor-Leste\n",
       "150                        Togo\n",
       "155                      Uganda\n",
       "165                       Yemen\n",
       "166                      Zambia\n",
       "Name: country, dtype: object"
      ]
     },
     "execution_count": 39,
     "metadata": {},
     "output_type": "execute_result"
    }
   ],
   "source": [
    "#Let's use the concept of binning\n",
    "df_km[df_km['cluster_id']==1]['country']"
   ]
  },
  {
   "cell_type": "code",
   "execution_count": 40,
   "metadata": {},
   "outputs": [
    {
     "data": {
      "text/html": [
       "<div>\n",
       "<style scoped>\n",
       "    .dataframe tbody tr th:only-of-type {\n",
       "        vertical-align: middle;\n",
       "    }\n",
       "\n",
       "    .dataframe tbody tr th {\n",
       "        vertical-align: top;\n",
       "    }\n",
       "\n",
       "    .dataframe thead th {\n",
       "        text-align: right;\n",
       "    }\n",
       "</style>\n",
       "<table border=\"1\" class=\"dataframe\">\n",
       "  <thead>\n",
       "    <tr style=\"text-align: right;\">\n",
       "      <th></th>\n",
       "      <th>country</th>\n",
       "      <th>child_mort</th>\n",
       "      <th>exports</th>\n",
       "      <th>health</th>\n",
       "      <th>imports</th>\n",
       "      <th>income</th>\n",
       "      <th>inflation</th>\n",
       "      <th>life_expec</th>\n",
       "      <th>total_fer</th>\n",
       "      <th>gdpp</th>\n",
       "      <th>cluster_id</th>\n",
       "    </tr>\n",
       "  </thead>\n",
       "  <tbody>\n",
       "    <tr>\n",
       "      <td>88</td>\n",
       "      <td>Liberia</td>\n",
       "      <td>89.3</td>\n",
       "      <td>62.457000</td>\n",
       "      <td>38.586000</td>\n",
       "      <td>302.80200</td>\n",
       "      <td>742.24</td>\n",
       "      <td>5.470</td>\n",
       "      <td>60.80</td>\n",
       "      <td>5.0200</td>\n",
       "      <td>331.62</td>\n",
       "      <td>1</td>\n",
       "    </tr>\n",
       "    <tr>\n",
       "      <td>26</td>\n",
       "      <td>Burundi</td>\n",
       "      <td>93.6</td>\n",
       "      <td>22.243716</td>\n",
       "      <td>26.796000</td>\n",
       "      <td>104.90964</td>\n",
       "      <td>764.00</td>\n",
       "      <td>12.300</td>\n",
       "      <td>57.70</td>\n",
       "      <td>6.2600</td>\n",
       "      <td>331.62</td>\n",
       "      <td>1</td>\n",
       "    </tr>\n",
       "    <tr>\n",
       "      <td>37</td>\n",
       "      <td>Congo, Dem. Rep.</td>\n",
       "      <td>116.0</td>\n",
       "      <td>137.274000</td>\n",
       "      <td>26.419400</td>\n",
       "      <td>165.66400</td>\n",
       "      <td>742.24</td>\n",
       "      <td>20.800</td>\n",
       "      <td>57.50</td>\n",
       "      <td>6.5400</td>\n",
       "      <td>334.00</td>\n",
       "      <td>1</td>\n",
       "    </tr>\n",
       "    <tr>\n",
       "      <td>112</td>\n",
       "      <td>Niger</td>\n",
       "      <td>123.0</td>\n",
       "      <td>77.256000</td>\n",
       "      <td>17.956800</td>\n",
       "      <td>170.86800</td>\n",
       "      <td>814.00</td>\n",
       "      <td>2.550</td>\n",
       "      <td>58.80</td>\n",
       "      <td>6.5636</td>\n",
       "      <td>348.00</td>\n",
       "      <td>1</td>\n",
       "    </tr>\n",
       "    <tr>\n",
       "      <td>132</td>\n",
       "      <td>Sierra Leone</td>\n",
       "      <td>153.4</td>\n",
       "      <td>67.032000</td>\n",
       "      <td>52.269000</td>\n",
       "      <td>137.65500</td>\n",
       "      <td>1220.00</td>\n",
       "      <td>17.200</td>\n",
       "      <td>55.00</td>\n",
       "      <td>5.2000</td>\n",
       "      <td>399.00</td>\n",
       "      <td>1</td>\n",
       "    </tr>\n",
       "    <tr>\n",
       "      <td>93</td>\n",
       "      <td>Madagascar</td>\n",
       "      <td>62.2</td>\n",
       "      <td>103.250000</td>\n",
       "      <td>17.009362</td>\n",
       "      <td>177.59000</td>\n",
       "      <td>1390.00</td>\n",
       "      <td>8.790</td>\n",
       "      <td>60.80</td>\n",
       "      <td>4.6000</td>\n",
       "      <td>413.00</td>\n",
       "      <td>1</td>\n",
       "    </tr>\n",
       "    <tr>\n",
       "      <td>106</td>\n",
       "      <td>Mozambique</td>\n",
       "      <td>101.0</td>\n",
       "      <td>131.985000</td>\n",
       "      <td>21.829900</td>\n",
       "      <td>193.57800</td>\n",
       "      <td>918.00</td>\n",
       "      <td>7.640</td>\n",
       "      <td>54.50</td>\n",
       "      <td>5.5600</td>\n",
       "      <td>419.00</td>\n",
       "      <td>1</td>\n",
       "    </tr>\n",
       "    <tr>\n",
       "      <td>31</td>\n",
       "      <td>Central African Republic</td>\n",
       "      <td>149.0</td>\n",
       "      <td>52.628000</td>\n",
       "      <td>17.750800</td>\n",
       "      <td>118.19000</td>\n",
       "      <td>888.00</td>\n",
       "      <td>2.010</td>\n",
       "      <td>47.50</td>\n",
       "      <td>5.2100</td>\n",
       "      <td>446.00</td>\n",
       "      <td>1</td>\n",
       "    </tr>\n",
       "    <tr>\n",
       "      <td>94</td>\n",
       "      <td>Malawi</td>\n",
       "      <td>90.5</td>\n",
       "      <td>104.652000</td>\n",
       "      <td>30.248100</td>\n",
       "      <td>160.19100</td>\n",
       "      <td>1030.00</td>\n",
       "      <td>12.100</td>\n",
       "      <td>53.10</td>\n",
       "      <td>5.3100</td>\n",
       "      <td>459.00</td>\n",
       "      <td>1</td>\n",
       "    </tr>\n",
       "    <tr>\n",
       "      <td>50</td>\n",
       "      <td>Eritrea</td>\n",
       "      <td>55.2</td>\n",
       "      <td>23.087800</td>\n",
       "      <td>17.009362</td>\n",
       "      <td>112.30600</td>\n",
       "      <td>1420.00</td>\n",
       "      <td>11.600</td>\n",
       "      <td>61.70</td>\n",
       "      <td>4.6100</td>\n",
       "      <td>482.00</td>\n",
       "      <td>1</td>\n",
       "    </tr>\n",
       "    <tr>\n",
       "      <td>150</td>\n",
       "      <td>Togo</td>\n",
       "      <td>90.3</td>\n",
       "      <td>196.176000</td>\n",
       "      <td>37.332000</td>\n",
       "      <td>279.62400</td>\n",
       "      <td>1210.00</td>\n",
       "      <td>1.180</td>\n",
       "      <td>58.70</td>\n",
       "      <td>4.8700</td>\n",
       "      <td>488.00</td>\n",
       "      <td>1</td>\n",
       "    </tr>\n",
       "    <tr>\n",
       "      <td>64</td>\n",
       "      <td>Guinea-Bissau</td>\n",
       "      <td>114.0</td>\n",
       "      <td>81.503000</td>\n",
       "      <td>46.495000</td>\n",
       "      <td>192.54400</td>\n",
       "      <td>1390.00</td>\n",
       "      <td>2.970</td>\n",
       "      <td>55.60</td>\n",
       "      <td>5.0500</td>\n",
       "      <td>547.00</td>\n",
       "      <td>1</td>\n",
       "    </tr>\n",
       "    <tr>\n",
       "      <td>0</td>\n",
       "      <td>Afghanistan</td>\n",
       "      <td>90.2</td>\n",
       "      <td>55.300000</td>\n",
       "      <td>41.917400</td>\n",
       "      <td>248.29700</td>\n",
       "      <td>1610.00</td>\n",
       "      <td>9.440</td>\n",
       "      <td>56.20</td>\n",
       "      <td>5.8200</td>\n",
       "      <td>553.00</td>\n",
       "      <td>1</td>\n",
       "    </tr>\n",
       "    <tr>\n",
       "      <td>56</td>\n",
       "      <td>Gambia</td>\n",
       "      <td>80.3</td>\n",
       "      <td>133.756000</td>\n",
       "      <td>31.977800</td>\n",
       "      <td>239.97400</td>\n",
       "      <td>1660.00</td>\n",
       "      <td>4.300</td>\n",
       "      <td>65.50</td>\n",
       "      <td>5.7100</td>\n",
       "      <td>562.00</td>\n",
       "      <td>1</td>\n",
       "    </tr>\n",
       "    <tr>\n",
       "      <td>126</td>\n",
       "      <td>Rwanda</td>\n",
       "      <td>63.6</td>\n",
       "      <td>67.560000</td>\n",
       "      <td>59.115000</td>\n",
       "      <td>168.90000</td>\n",
       "      <td>1350.00</td>\n",
       "      <td>2.610</td>\n",
       "      <td>64.60</td>\n",
       "      <td>4.5100</td>\n",
       "      <td>563.00</td>\n",
       "      <td>1</td>\n",
       "    </tr>\n",
       "    <tr>\n",
       "      <td>25</td>\n",
       "      <td>Burkina Faso</td>\n",
       "      <td>116.0</td>\n",
       "      <td>110.400000</td>\n",
       "      <td>38.755000</td>\n",
       "      <td>170.20000</td>\n",
       "      <td>1430.00</td>\n",
       "      <td>6.810</td>\n",
       "      <td>57.90</td>\n",
       "      <td>5.8700</td>\n",
       "      <td>575.00</td>\n",
       "      <td>1</td>\n",
       "    </tr>\n",
       "    <tr>\n",
       "      <td>155</td>\n",
       "      <td>Uganda</td>\n",
       "      <td>81.0</td>\n",
       "      <td>101.745000</td>\n",
       "      <td>53.609500</td>\n",
       "      <td>170.17000</td>\n",
       "      <td>1540.00</td>\n",
       "      <td>10.600</td>\n",
       "      <td>56.80</td>\n",
       "      <td>6.1500</td>\n",
       "      <td>595.00</td>\n",
       "      <td>1</td>\n",
       "    </tr>\n",
       "    <tr>\n",
       "      <td>63</td>\n",
       "      <td>Guinea</td>\n",
       "      <td>109.0</td>\n",
       "      <td>196.344000</td>\n",
       "      <td>31.946400</td>\n",
       "      <td>279.93600</td>\n",
       "      <td>1190.00</td>\n",
       "      <td>16.100</td>\n",
       "      <td>58.00</td>\n",
       "      <td>5.3400</td>\n",
       "      <td>648.00</td>\n",
       "      <td>1</td>\n",
       "    </tr>\n",
       "    <tr>\n",
       "      <td>66</td>\n",
       "      <td>Haiti</td>\n",
       "      <td>153.4</td>\n",
       "      <td>101.286000</td>\n",
       "      <td>45.744200</td>\n",
       "      <td>428.31400</td>\n",
       "      <td>1500.00</td>\n",
       "      <td>5.450</td>\n",
       "      <td>47.16</td>\n",
       "      <td>3.3300</td>\n",
       "      <td>662.00</td>\n",
       "      <td>1</td>\n",
       "    </tr>\n",
       "    <tr>\n",
       "      <td>147</td>\n",
       "      <td>Tanzania</td>\n",
       "      <td>71.9</td>\n",
       "      <td>131.274000</td>\n",
       "      <td>42.190200</td>\n",
       "      <td>204.28200</td>\n",
       "      <td>2090.00</td>\n",
       "      <td>9.250</td>\n",
       "      <td>59.30</td>\n",
       "      <td>5.4300</td>\n",
       "      <td>702.00</td>\n",
       "      <td>1</td>\n",
       "    </tr>\n",
       "    <tr>\n",
       "      <td>97</td>\n",
       "      <td>Mali</td>\n",
       "      <td>137.0</td>\n",
       "      <td>161.424000</td>\n",
       "      <td>35.258400</td>\n",
       "      <td>248.50800</td>\n",
       "      <td>1870.00</td>\n",
       "      <td>4.370</td>\n",
       "      <td>59.50</td>\n",
       "      <td>6.5500</td>\n",
       "      <td>708.00</td>\n",
       "      <td>1</td>\n",
       "    </tr>\n",
       "    <tr>\n",
       "      <td>17</td>\n",
       "      <td>Benin</td>\n",
       "      <td>111.0</td>\n",
       "      <td>180.404000</td>\n",
       "      <td>31.078000</td>\n",
       "      <td>281.97600</td>\n",
       "      <td>1820.00</td>\n",
       "      <td>0.885</td>\n",
       "      <td>61.80</td>\n",
       "      <td>5.3600</td>\n",
       "      <td>758.00</td>\n",
       "      <td>1</td>\n",
       "    </tr>\n",
       "    <tr>\n",
       "      <td>36</td>\n",
       "      <td>Comoros</td>\n",
       "      <td>88.2</td>\n",
       "      <td>126.885000</td>\n",
       "      <td>34.681900</td>\n",
       "      <td>397.57300</td>\n",
       "      <td>1410.00</td>\n",
       "      <td>3.870</td>\n",
       "      <td>65.90</td>\n",
       "      <td>4.7500</td>\n",
       "      <td>769.00</td>\n",
       "      <td>1</td>\n",
       "    </tr>\n",
       "    <tr>\n",
       "      <td>32</td>\n",
       "      <td>Chad</td>\n",
       "      <td>150.0</td>\n",
       "      <td>330.096000</td>\n",
       "      <td>40.634100</td>\n",
       "      <td>390.19500</td>\n",
       "      <td>1930.00</td>\n",
       "      <td>6.390</td>\n",
       "      <td>56.50</td>\n",
       "      <td>6.5636</td>\n",
       "      <td>897.00</td>\n",
       "      <td>1</td>\n",
       "    </tr>\n",
       "    <tr>\n",
       "      <td>80</td>\n",
       "      <td>Kenya</td>\n",
       "      <td>62.2</td>\n",
       "      <td>200.169000</td>\n",
       "      <td>45.932500</td>\n",
       "      <td>324.91200</td>\n",
       "      <td>2480.00</td>\n",
       "      <td>2.090</td>\n",
       "      <td>62.80</td>\n",
       "      <td>4.3700</td>\n",
       "      <td>967.00</td>\n",
       "      <td>1</td>\n",
       "    </tr>\n",
       "    <tr>\n",
       "      <td>129</td>\n",
       "      <td>Senegal</td>\n",
       "      <td>66.8</td>\n",
       "      <td>249.000000</td>\n",
       "      <td>56.600000</td>\n",
       "      <td>403.00000</td>\n",
       "      <td>2180.00</td>\n",
       "      <td>1.850</td>\n",
       "      <td>64.00</td>\n",
       "      <td>5.0600</td>\n",
       "      <td>1000.00</td>\n",
       "      <td>1</td>\n",
       "    </tr>\n",
       "    <tr>\n",
       "      <td>116</td>\n",
       "      <td>Pakistan</td>\n",
       "      <td>92.1</td>\n",
       "      <td>140.400000</td>\n",
       "      <td>22.880000</td>\n",
       "      <td>201.76000</td>\n",
       "      <td>4280.00</td>\n",
       "      <td>10.900</td>\n",
       "      <td>65.30</td>\n",
       "      <td>3.8500</td>\n",
       "      <td>1040.00</td>\n",
       "      <td>1</td>\n",
       "    </tr>\n",
       "    <tr>\n",
       "      <td>84</td>\n",
       "      <td>Lao</td>\n",
       "      <td>78.9</td>\n",
       "      <td>403.560000</td>\n",
       "      <td>50.958000</td>\n",
       "      <td>562.02000</td>\n",
       "      <td>3980.00</td>\n",
       "      <td>9.200</td>\n",
       "      <td>63.80</td>\n",
       "      <td>3.1500</td>\n",
       "      <td>1140.00</td>\n",
       "      <td>1</td>\n",
       "    </tr>\n",
       "    <tr>\n",
       "      <td>87</td>\n",
       "      <td>Lesotho</td>\n",
       "      <td>99.7</td>\n",
       "      <td>460.980000</td>\n",
       "      <td>129.870000</td>\n",
       "      <td>1181.70000</td>\n",
       "      <td>2380.00</td>\n",
       "      <td>4.150</td>\n",
       "      <td>47.16</td>\n",
       "      <td>3.3000</td>\n",
       "      <td>1170.00</td>\n",
       "      <td>1</td>\n",
       "    </tr>\n",
       "    <tr>\n",
       "      <td>99</td>\n",
       "      <td>Mauritania</td>\n",
       "      <td>97.4</td>\n",
       "      <td>608.400000</td>\n",
       "      <td>52.920000</td>\n",
       "      <td>734.40000</td>\n",
       "      <td>3320.00</td>\n",
       "      <td>18.900</td>\n",
       "      <td>68.20</td>\n",
       "      <td>4.9800</td>\n",
       "      <td>1200.00</td>\n",
       "      <td>1</td>\n",
       "    </tr>\n",
       "    <tr>\n",
       "      <td>40</td>\n",
       "      <td>Cote d'Ivoire</td>\n",
       "      <td>111.0</td>\n",
       "      <td>617.320000</td>\n",
       "      <td>64.660000</td>\n",
       "      <td>528.26000</td>\n",
       "      <td>2690.00</td>\n",
       "      <td>5.390</td>\n",
       "      <td>56.30</td>\n",
       "      <td>5.2700</td>\n",
       "      <td>1220.00</td>\n",
       "      <td>1</td>\n",
       "    </tr>\n",
       "    <tr>\n",
       "      <td>136</td>\n",
       "      <td>Solomon Islands</td>\n",
       "      <td>28.1</td>\n",
       "      <td>635.970000</td>\n",
       "      <td>110.295000</td>\n",
       "      <td>1047.48000</td>\n",
       "      <td>1780.00</td>\n",
       "      <td>6.810</td>\n",
       "      <td>61.70</td>\n",
       "      <td>4.2400</td>\n",
       "      <td>1290.00</td>\n",
       "      <td>1</td>\n",
       "    </tr>\n",
       "    <tr>\n",
       "      <td>165</td>\n",
       "      <td>Yemen</td>\n",
       "      <td>56.3</td>\n",
       "      <td>393.000000</td>\n",
       "      <td>67.858000</td>\n",
       "      <td>450.64000</td>\n",
       "      <td>4480.00</td>\n",
       "      <td>23.600</td>\n",
       "      <td>67.50</td>\n",
       "      <td>4.6700</td>\n",
       "      <td>1310.00</td>\n",
       "      <td>1</td>\n",
       "    </tr>\n",
       "    <tr>\n",
       "      <td>59</td>\n",
       "      <td>Ghana</td>\n",
       "      <td>74.7</td>\n",
       "      <td>386.450000</td>\n",
       "      <td>68.382000</td>\n",
       "      <td>601.29000</td>\n",
       "      <td>3060.00</td>\n",
       "      <td>16.600</td>\n",
       "      <td>62.20</td>\n",
       "      <td>4.2700</td>\n",
       "      <td>1310.00</td>\n",
       "      <td>1</td>\n",
       "    </tr>\n",
       "    <tr>\n",
       "      <td>28</td>\n",
       "      <td>Cameroon</td>\n",
       "      <td>108.0</td>\n",
       "      <td>290.820000</td>\n",
       "      <td>67.203000</td>\n",
       "      <td>353.70000</td>\n",
       "      <td>2660.00</td>\n",
       "      <td>1.910</td>\n",
       "      <td>57.30</td>\n",
       "      <td>5.1100</td>\n",
       "      <td>1310.00</td>\n",
       "      <td>1</td>\n",
       "    </tr>\n",
       "    <tr>\n",
       "      <td>166</td>\n",
       "      <td>Zambia</td>\n",
       "      <td>83.1</td>\n",
       "      <td>540.200000</td>\n",
       "      <td>85.994000</td>\n",
       "      <td>451.14000</td>\n",
       "      <td>3280.00</td>\n",
       "      <td>14.000</td>\n",
       "      <td>52.00</td>\n",
       "      <td>5.4000</td>\n",
       "      <td>1460.00</td>\n",
       "      <td>1</td>\n",
       "    </tr>\n",
       "    <tr>\n",
       "      <td>142</td>\n",
       "      <td>Sudan</td>\n",
       "      <td>76.7</td>\n",
       "      <td>291.560000</td>\n",
       "      <td>93.536000</td>\n",
       "      <td>254.56000</td>\n",
       "      <td>3370.00</td>\n",
       "      <td>19.600</td>\n",
       "      <td>66.30</td>\n",
       "      <td>4.8800</td>\n",
       "      <td>1480.00</td>\n",
       "      <td>1</td>\n",
       "    </tr>\n",
       "    <tr>\n",
       "      <td>81</td>\n",
       "      <td>Kiribati</td>\n",
       "      <td>62.7</td>\n",
       "      <td>198.170000</td>\n",
       "      <td>168.370000</td>\n",
       "      <td>1190.51000</td>\n",
       "      <td>1730.00</td>\n",
       "      <td>1.520</td>\n",
       "      <td>60.70</td>\n",
       "      <td>3.8400</td>\n",
       "      <td>1490.00</td>\n",
       "      <td>1</td>\n",
       "    </tr>\n",
       "    <tr>\n",
       "      <td>113</td>\n",
       "      <td>Nigeria</td>\n",
       "      <td>130.0</td>\n",
       "      <td>589.490000</td>\n",
       "      <td>118.131000</td>\n",
       "      <td>405.42000</td>\n",
       "      <td>5150.00</td>\n",
       "      <td>41.478</td>\n",
       "      <td>60.50</td>\n",
       "      <td>5.8400</td>\n",
       "      <td>2330.00</td>\n",
       "      <td>1</td>\n",
       "    </tr>\n",
       "    <tr>\n",
       "      <td>38</td>\n",
       "      <td>Congo, Rep.</td>\n",
       "      <td>63.9</td>\n",
       "      <td>2331.740000</td>\n",
       "      <td>67.404000</td>\n",
       "      <td>1498.78000</td>\n",
       "      <td>5190.00</td>\n",
       "      <td>20.700</td>\n",
       "      <td>60.40</td>\n",
       "      <td>4.9500</td>\n",
       "      <td>2740.00</td>\n",
       "      <td>1</td>\n",
       "    </tr>\n",
       "    <tr>\n",
       "      <td>3</td>\n",
       "      <td>Angola</td>\n",
       "      <td>119.0</td>\n",
       "      <td>2199.190000</td>\n",
       "      <td>100.605000</td>\n",
       "      <td>1514.37000</td>\n",
       "      <td>5900.00</td>\n",
       "      <td>22.400</td>\n",
       "      <td>60.10</td>\n",
       "      <td>6.1600</td>\n",
       "      <td>3530.00</td>\n",
       "      <td>1</td>\n",
       "    </tr>\n",
       "    <tr>\n",
       "      <td>149</td>\n",
       "      <td>Timor-Leste</td>\n",
       "      <td>62.6</td>\n",
       "      <td>79.200000</td>\n",
       "      <td>328.320000</td>\n",
       "      <td>1000.80000</td>\n",
       "      <td>1850.00</td>\n",
       "      <td>26.500</td>\n",
       "      <td>71.10</td>\n",
       "      <td>6.2300</td>\n",
       "      <td>3600.00</td>\n",
       "      <td>1</td>\n",
       "    </tr>\n",
       "    <tr>\n",
       "      <td>72</td>\n",
       "      <td>Iraq</td>\n",
       "      <td>36.9</td>\n",
       "      <td>1773.000000</td>\n",
       "      <td>378.450000</td>\n",
       "      <td>1534.50000</td>\n",
       "      <td>12700.00</td>\n",
       "      <td>16.600</td>\n",
       "      <td>67.20</td>\n",
       "      <td>4.5600</td>\n",
       "      <td>4500.00</td>\n",
       "      <td>1</td>\n",
       "    </tr>\n",
       "    <tr>\n",
       "      <td>108</td>\n",
       "      <td>Namibia</td>\n",
       "      <td>56.0</td>\n",
       "      <td>2480.820000</td>\n",
       "      <td>351.882000</td>\n",
       "      <td>3150.33000</td>\n",
       "      <td>8460.00</td>\n",
       "      <td>3.560</td>\n",
       "      <td>58.60</td>\n",
       "      <td>3.6000</td>\n",
       "      <td>5190.00</td>\n",
       "      <td>1</td>\n",
       "    </tr>\n",
       "    <tr>\n",
       "      <td>21</td>\n",
       "      <td>Botswana</td>\n",
       "      <td>52.5</td>\n",
       "      <td>2768.600000</td>\n",
       "      <td>527.050000</td>\n",
       "      <td>3257.55000</td>\n",
       "      <td>13300.00</td>\n",
       "      <td>8.920</td>\n",
       "      <td>57.10</td>\n",
       "      <td>2.8800</td>\n",
       "      <td>6350.00</td>\n",
       "      <td>1</td>\n",
       "    </tr>\n",
       "    <tr>\n",
       "      <td>137</td>\n",
       "      <td>South Africa</td>\n",
       "      <td>53.7</td>\n",
       "      <td>2082.080000</td>\n",
       "      <td>650.832000</td>\n",
       "      <td>1994.72000</td>\n",
       "      <td>12000.00</td>\n",
       "      <td>6.350</td>\n",
       "      <td>54.30</td>\n",
       "      <td>2.5900</td>\n",
       "      <td>7280.00</td>\n",
       "      <td>1</td>\n",
       "    </tr>\n",
       "    <tr>\n",
       "      <td>55</td>\n",
       "      <td>Gabon</td>\n",
       "      <td>63.7</td>\n",
       "      <td>5048.750000</td>\n",
       "      <td>306.250000</td>\n",
       "      <td>1653.75000</td>\n",
       "      <td>15400.00</td>\n",
       "      <td>16.600</td>\n",
       "      <td>62.90</td>\n",
       "      <td>4.0800</td>\n",
       "      <td>8750.00</td>\n",
       "      <td>1</td>\n",
       "    </tr>\n",
       "    <tr>\n",
       "      <td>49</td>\n",
       "      <td>Equatorial Guinea</td>\n",
       "      <td>111.0</td>\n",
       "      <td>14671.800000</td>\n",
       "      <td>766.080000</td>\n",
       "      <td>10071.90000</td>\n",
       "      <td>33700.00</td>\n",
       "      <td>24.900</td>\n",
       "      <td>60.90</td>\n",
       "      <td>5.2100</td>\n",
       "      <td>17100.00</td>\n",
       "      <td>1</td>\n",
       "    </tr>\n",
       "  </tbody>\n",
       "</table>\n",
       "</div>"
      ],
      "text/plain": [
       "                      country  child_mort       exports      health  \\\n",
       "88                    Liberia        89.3     62.457000   38.586000   \n",
       "26                    Burundi        93.6     22.243716   26.796000   \n",
       "37           Congo, Dem. Rep.       116.0    137.274000   26.419400   \n",
       "112                     Niger       123.0     77.256000   17.956800   \n",
       "132              Sierra Leone       153.4     67.032000   52.269000   \n",
       "93                 Madagascar        62.2    103.250000   17.009362   \n",
       "106                Mozambique       101.0    131.985000   21.829900   \n",
       "31   Central African Republic       149.0     52.628000   17.750800   \n",
       "94                     Malawi        90.5    104.652000   30.248100   \n",
       "50                    Eritrea        55.2     23.087800   17.009362   \n",
       "150                      Togo        90.3    196.176000   37.332000   \n",
       "64              Guinea-Bissau       114.0     81.503000   46.495000   \n",
       "0                 Afghanistan        90.2     55.300000   41.917400   \n",
       "56                     Gambia        80.3    133.756000   31.977800   \n",
       "126                    Rwanda        63.6     67.560000   59.115000   \n",
       "25               Burkina Faso       116.0    110.400000   38.755000   \n",
       "155                    Uganda        81.0    101.745000   53.609500   \n",
       "63                     Guinea       109.0    196.344000   31.946400   \n",
       "66                      Haiti       153.4    101.286000   45.744200   \n",
       "147                  Tanzania        71.9    131.274000   42.190200   \n",
       "97                       Mali       137.0    161.424000   35.258400   \n",
       "17                      Benin       111.0    180.404000   31.078000   \n",
       "36                    Comoros        88.2    126.885000   34.681900   \n",
       "32                       Chad       150.0    330.096000   40.634100   \n",
       "80                      Kenya        62.2    200.169000   45.932500   \n",
       "129                   Senegal        66.8    249.000000   56.600000   \n",
       "116                  Pakistan        92.1    140.400000   22.880000   \n",
       "84                        Lao        78.9    403.560000   50.958000   \n",
       "87                    Lesotho        99.7    460.980000  129.870000   \n",
       "99                 Mauritania        97.4    608.400000   52.920000   \n",
       "40              Cote d'Ivoire       111.0    617.320000   64.660000   \n",
       "136           Solomon Islands        28.1    635.970000  110.295000   \n",
       "165                     Yemen        56.3    393.000000   67.858000   \n",
       "59                      Ghana        74.7    386.450000   68.382000   \n",
       "28                   Cameroon       108.0    290.820000   67.203000   \n",
       "166                    Zambia        83.1    540.200000   85.994000   \n",
       "142                     Sudan        76.7    291.560000   93.536000   \n",
       "81                   Kiribati        62.7    198.170000  168.370000   \n",
       "113                   Nigeria       130.0    589.490000  118.131000   \n",
       "38                Congo, Rep.        63.9   2331.740000   67.404000   \n",
       "3                      Angola       119.0   2199.190000  100.605000   \n",
       "149               Timor-Leste        62.6     79.200000  328.320000   \n",
       "72                       Iraq        36.9   1773.000000  378.450000   \n",
       "108                   Namibia        56.0   2480.820000  351.882000   \n",
       "21                   Botswana        52.5   2768.600000  527.050000   \n",
       "137              South Africa        53.7   2082.080000  650.832000   \n",
       "55                      Gabon        63.7   5048.750000  306.250000   \n",
       "49          Equatorial Guinea       111.0  14671.800000  766.080000   \n",
       "\n",
       "         imports    income  inflation  life_expec  total_fer      gdpp  \\\n",
       "88     302.80200    742.24      5.470       60.80     5.0200    331.62   \n",
       "26     104.90964    764.00     12.300       57.70     6.2600    331.62   \n",
       "37     165.66400    742.24     20.800       57.50     6.5400    334.00   \n",
       "112    170.86800    814.00      2.550       58.80     6.5636    348.00   \n",
       "132    137.65500   1220.00     17.200       55.00     5.2000    399.00   \n",
       "93     177.59000   1390.00      8.790       60.80     4.6000    413.00   \n",
       "106    193.57800    918.00      7.640       54.50     5.5600    419.00   \n",
       "31     118.19000    888.00      2.010       47.50     5.2100    446.00   \n",
       "94     160.19100   1030.00     12.100       53.10     5.3100    459.00   \n",
       "50     112.30600   1420.00     11.600       61.70     4.6100    482.00   \n",
       "150    279.62400   1210.00      1.180       58.70     4.8700    488.00   \n",
       "64     192.54400   1390.00      2.970       55.60     5.0500    547.00   \n",
       "0      248.29700   1610.00      9.440       56.20     5.8200    553.00   \n",
       "56     239.97400   1660.00      4.300       65.50     5.7100    562.00   \n",
       "126    168.90000   1350.00      2.610       64.60     4.5100    563.00   \n",
       "25     170.20000   1430.00      6.810       57.90     5.8700    575.00   \n",
       "155    170.17000   1540.00     10.600       56.80     6.1500    595.00   \n",
       "63     279.93600   1190.00     16.100       58.00     5.3400    648.00   \n",
       "66     428.31400   1500.00      5.450       47.16     3.3300    662.00   \n",
       "147    204.28200   2090.00      9.250       59.30     5.4300    702.00   \n",
       "97     248.50800   1870.00      4.370       59.50     6.5500    708.00   \n",
       "17     281.97600   1820.00      0.885       61.80     5.3600    758.00   \n",
       "36     397.57300   1410.00      3.870       65.90     4.7500    769.00   \n",
       "32     390.19500   1930.00      6.390       56.50     6.5636    897.00   \n",
       "80     324.91200   2480.00      2.090       62.80     4.3700    967.00   \n",
       "129    403.00000   2180.00      1.850       64.00     5.0600   1000.00   \n",
       "116    201.76000   4280.00     10.900       65.30     3.8500   1040.00   \n",
       "84     562.02000   3980.00      9.200       63.80     3.1500   1140.00   \n",
       "87    1181.70000   2380.00      4.150       47.16     3.3000   1170.00   \n",
       "99     734.40000   3320.00     18.900       68.20     4.9800   1200.00   \n",
       "40     528.26000   2690.00      5.390       56.30     5.2700   1220.00   \n",
       "136   1047.48000   1780.00      6.810       61.70     4.2400   1290.00   \n",
       "165    450.64000   4480.00     23.600       67.50     4.6700   1310.00   \n",
       "59     601.29000   3060.00     16.600       62.20     4.2700   1310.00   \n",
       "28     353.70000   2660.00      1.910       57.30     5.1100   1310.00   \n",
       "166    451.14000   3280.00     14.000       52.00     5.4000   1460.00   \n",
       "142    254.56000   3370.00     19.600       66.30     4.8800   1480.00   \n",
       "81    1190.51000   1730.00      1.520       60.70     3.8400   1490.00   \n",
       "113    405.42000   5150.00     41.478       60.50     5.8400   2330.00   \n",
       "38    1498.78000   5190.00     20.700       60.40     4.9500   2740.00   \n",
       "3     1514.37000   5900.00     22.400       60.10     6.1600   3530.00   \n",
       "149   1000.80000   1850.00     26.500       71.10     6.2300   3600.00   \n",
       "72    1534.50000  12700.00     16.600       67.20     4.5600   4500.00   \n",
       "108   3150.33000   8460.00      3.560       58.60     3.6000   5190.00   \n",
       "21    3257.55000  13300.00      8.920       57.10     2.8800   6350.00   \n",
       "137   1994.72000  12000.00      6.350       54.30     2.5900   7280.00   \n",
       "55    1653.75000  15400.00     16.600       62.90     4.0800   8750.00   \n",
       "49   10071.90000  33700.00     24.900       60.90     5.2100  17100.00   \n",
       "\n",
       "     cluster_id  \n",
       "88            1  \n",
       "26            1  \n",
       "37            1  \n",
       "112           1  \n",
       "132           1  \n",
       "93            1  \n",
       "106           1  \n",
       "31            1  \n",
       "94            1  \n",
       "50            1  \n",
       "150           1  \n",
       "64            1  \n",
       "0             1  \n",
       "56            1  \n",
       "126           1  \n",
       "25            1  \n",
       "155           1  \n",
       "63            1  \n",
       "66            1  \n",
       "147           1  \n",
       "97            1  \n",
       "17            1  \n",
       "36            1  \n",
       "32            1  \n",
       "80            1  \n",
       "129           1  \n",
       "116           1  \n",
       "84            1  \n",
       "87            1  \n",
       "99            1  \n",
       "40            1  \n",
       "136           1  \n",
       "165           1  \n",
       "59            1  \n",
       "28            1  \n",
       "166           1  \n",
       "142           1  \n",
       "81            1  \n",
       "113           1  \n",
       "38            1  \n",
       "3             1  \n",
       "149           1  \n",
       "72            1  \n",
       "108           1  \n",
       "21            1  \n",
       "137           1  \n",
       "55            1  \n",
       "49            1  "
      ]
     },
     "execution_count": 40,
     "metadata": {},
     "output_type": "execute_result"
    }
   ],
   "source": [
    "df_km[df_km['cluster_id']==1].sort_values(by=['gdpp', 'child_mort', 'income'], ascending=[True, True, True])"
   ]
  },
  {
   "cell_type": "code",
   "execution_count": 41,
   "metadata": {},
   "outputs": [
    {
     "data": {
      "text/html": [
       "<div>\n",
       "<style scoped>\n",
       "    .dataframe tbody tr th:only-of-type {\n",
       "        vertical-align: middle;\n",
       "    }\n",
       "\n",
       "    .dataframe tbody tr th {\n",
       "        vertical-align: top;\n",
       "    }\n",
       "\n",
       "    .dataframe thead th {\n",
       "        text-align: right;\n",
       "    }\n",
       "</style>\n",
       "<table border=\"1\" class=\"dataframe\">\n",
       "  <thead>\n",
       "    <tr style=\"text-align: right;\">\n",
       "      <th></th>\n",
       "      <th>country</th>\n",
       "      <th>child_mort</th>\n",
       "      <th>exports</th>\n",
       "      <th>health</th>\n",
       "      <th>imports</th>\n",
       "      <th>income</th>\n",
       "      <th>inflation</th>\n",
       "      <th>life_expec</th>\n",
       "      <th>total_fer</th>\n",
       "      <th>gdpp</th>\n",
       "      <th>cluster_id</th>\n",
       "    </tr>\n",
       "  </thead>\n",
       "  <tbody>\n",
       "    <tr>\n",
       "      <td>88</td>\n",
       "      <td>Liberia</td>\n",
       "      <td>89.3</td>\n",
       "      <td>62.457000</td>\n",
       "      <td>38.5860</td>\n",
       "      <td>302.80200</td>\n",
       "      <td>742.24</td>\n",
       "      <td>5.47</td>\n",
       "      <td>60.8</td>\n",
       "      <td>5.0200</td>\n",
       "      <td>331.62</td>\n",
       "      <td>1</td>\n",
       "    </tr>\n",
       "    <tr>\n",
       "      <td>26</td>\n",
       "      <td>Burundi</td>\n",
       "      <td>93.6</td>\n",
       "      <td>22.243716</td>\n",
       "      <td>26.7960</td>\n",
       "      <td>104.90964</td>\n",
       "      <td>764.00</td>\n",
       "      <td>12.30</td>\n",
       "      <td>57.7</td>\n",
       "      <td>6.2600</td>\n",
       "      <td>331.62</td>\n",
       "      <td>1</td>\n",
       "    </tr>\n",
       "    <tr>\n",
       "      <td>37</td>\n",
       "      <td>Congo, Dem. Rep.</td>\n",
       "      <td>116.0</td>\n",
       "      <td>137.274000</td>\n",
       "      <td>26.4194</td>\n",
       "      <td>165.66400</td>\n",
       "      <td>742.24</td>\n",
       "      <td>20.80</td>\n",
       "      <td>57.5</td>\n",
       "      <td>6.5400</td>\n",
       "      <td>334.00</td>\n",
       "      <td>1</td>\n",
       "    </tr>\n",
       "    <tr>\n",
       "      <td>112</td>\n",
       "      <td>Niger</td>\n",
       "      <td>123.0</td>\n",
       "      <td>77.256000</td>\n",
       "      <td>17.9568</td>\n",
       "      <td>170.86800</td>\n",
       "      <td>814.00</td>\n",
       "      <td>2.55</td>\n",
       "      <td>58.8</td>\n",
       "      <td>6.5636</td>\n",
       "      <td>348.00</td>\n",
       "      <td>1</td>\n",
       "    </tr>\n",
       "    <tr>\n",
       "      <td>132</td>\n",
       "      <td>Sierra Leone</td>\n",
       "      <td>153.4</td>\n",
       "      <td>67.032000</td>\n",
       "      <td>52.2690</td>\n",
       "      <td>137.65500</td>\n",
       "      <td>1220.00</td>\n",
       "      <td>17.20</td>\n",
       "      <td>55.0</td>\n",
       "      <td>5.2000</td>\n",
       "      <td>399.00</td>\n",
       "      <td>1</td>\n",
       "    </tr>\n",
       "  </tbody>\n",
       "</table>\n",
       "</div>"
      ],
      "text/plain": [
       "              country  child_mort     exports   health    imports   income  \\\n",
       "88            Liberia        89.3   62.457000  38.5860  302.80200   742.24   \n",
       "26            Burundi        93.6   22.243716  26.7960  104.90964   764.00   \n",
       "37   Congo, Dem. Rep.       116.0  137.274000  26.4194  165.66400   742.24   \n",
       "112             Niger       123.0   77.256000  17.9568  170.86800   814.00   \n",
       "132      Sierra Leone       153.4   67.032000  52.2690  137.65500  1220.00   \n",
       "\n",
       "     inflation  life_expec  total_fer    gdpp  cluster_id  \n",
       "88        5.47        60.8     5.0200  331.62           1  \n",
       "26       12.30        57.7     6.2600  331.62           1  \n",
       "37       20.80        57.5     6.5400  334.00           1  \n",
       "112       2.55        58.8     6.5636  348.00           1  \n",
       "132      17.20        55.0     5.2000  399.00           1  "
      ]
     },
     "execution_count": 41,
     "metadata": {},
     "output_type": "execute_result"
    }
   ],
   "source": [
    "# 5 countries which are in direst need of aid from the analysis work that is performd above\n",
    "df_km[df_km['cluster_id']==1].sort_values(by=['gdpp', 'child_mort', 'income'], ascending=[True, True, True]).head()"
   ]
  },
  {
   "cell_type": "markdown",
   "metadata": {},
   "source": [
    "-  ### Subtask 5.2: Hierarchical Clustering\n",
    "\n",
    "    -  #### Subtask 5.2.1: Single and Complete Linkage"
   ]
  },
  {
   "cell_type": "code",
   "execution_count": 42,
   "metadata": {},
   "outputs": [
    {
     "data": {
      "image/png": "[encoded data removed]",
      "text/plain": [
       "<Figure size 432x288 with 1 Axes>"
      ]
     },
     "metadata": {
      "needs_background": "light"
     },
     "output_type": "display_data"
    }
   ],
   "source": [
    "# Single Linkage\n",
    "mergings = linkage(df1, method='single', metric='euclidean')\n",
    "dendrogram(mergings)\n",
    "plt.show()"
   ]
  },
  {
   "cell_type": "code",
   "execution_count": 43,
   "metadata": {},
   "outputs": [
    {
     "data": {
      "text/plain": [
       "<function matplotlib.pyplot.show(*args, **kw)>"
      ]
     },
     "execution_count": 43,
     "metadata": {},
     "output_type": "execute_result"
    },
    {
     "data": {
      "image/png": "[encoded data removed]",
      "text/plain": [
       "<Figure size 432x288 with 1 Axes>"
      ]
     },
     "metadata": {
      "needs_background": "light"
     },
     "output_type": "display_data"
    }
   ],
   "source": [
    "# Complete Linkage\n",
    "mergings = linkage(df1, method='complete', metric='euclidean')\n",
    "dendrogram(mergings)\n",
    "plt.show"
   ]
  },
  {
   "cell_type": "markdown",
   "metadata": {},
   "source": [
    "   -  #### Subtask 5.2.2: Chossing the method based on above results"
   ]
  },
  {
   "cell_type": "code",
   "execution_count": 44,
   "metadata": {},
   "outputs": [
    {
     "data": {
      "text/plain": [
       "array([0, 0, 0, 0, 0, 0, 0, 1, 1, 0, 0, 0, 0, 0, 0, 1, 0, 0, 0, 0, 0, 0,\n",
       "       0, 1, 0, 0, 0, 0, 0, 1, 0, 0, 0, 0, 0, 0, 0, 0, 0, 0, 0, 0, 0, 0,\n",
       "       1, 0, 0, 0, 0, 0, 0, 0, 0, 1, 1, 0, 0, 0, 1, 0, 0, 0, 0, 0, 0, 0,\n",
       "       0, 0, 1, 0, 0, 0, 0, 1, 0, 0, 0, 0, 0, 0, 0, 0, 1, 0, 0, 0, 0, 0,\n",
       "       0, 0, 0, 1, 0, 0, 0, 0, 0, 0, 0, 0, 0, 0, 0, 0, 0, 0, 0, 0, 0, 0,\n",
       "       1, 0, 0, 0, 1, 0, 0, 0, 0, 0, 0, 0, 0, 1, 0, 0, 0, 0, 0, 0, 0, 0,\n",
       "       0, 1, 0, 0, 0, 0, 0, 0, 0, 0, 0, 0, 1, 1, 0, 0, 0, 0, 0, 0, 0, 0,\n",
       "       0, 0, 0, 1, 0, 1, 0, 0, 0, 0, 0, 0, 0])"
      ]
     },
     "execution_count": 44,
     "metadata": {},
     "output_type": "execute_result"
    }
   ],
   "source": [
    "# Taking 2 clusters\n",
    "cluster_labels = cut_tree(mergings, n_clusters=2).reshape(-1, )\n",
    "cluster_labels"
   ]
  },
  {
   "cell_type": "code",
   "execution_count": 45,
   "metadata": {},
   "outputs": [
    {
     "data": {
      "text/html": [
       "<div>\n",
       "<style scoped>\n",
       "    .dataframe tbody tr th:only-of-type {\n",
       "        vertical-align: middle;\n",
       "    }\n",
       "\n",
       "    .dataframe tbody tr th {\n",
       "        vertical-align: top;\n",
       "    }\n",
       "\n",
       "    .dataframe thead th {\n",
       "        text-align: right;\n",
       "    }\n",
       "</style>\n",
       "<table border=\"1\" class=\"dataframe\">\n",
       "  <thead>\n",
       "    <tr style=\"text-align: right;\">\n",
       "      <th></th>\n",
       "      <th>country</th>\n",
       "      <th>child_mort</th>\n",
       "      <th>exports</th>\n",
       "      <th>health</th>\n",
       "      <th>imports</th>\n",
       "      <th>income</th>\n",
       "      <th>inflation</th>\n",
       "      <th>life_expec</th>\n",
       "      <th>total_fer</th>\n",
       "      <th>gdpp</th>\n",
       "      <th>cluster_labels</th>\n",
       "    </tr>\n",
       "  </thead>\n",
       "  <tbody>\n",
       "    <tr>\n",
       "      <td>0</td>\n",
       "      <td>Afghanistan</td>\n",
       "      <td>90.2</td>\n",
       "      <td>55.30</td>\n",
       "      <td>41.9174</td>\n",
       "      <td>248.297</td>\n",
       "      <td>1610.0</td>\n",
       "      <td>9.44</td>\n",
       "      <td>56.2</td>\n",
       "      <td>5.82</td>\n",
       "      <td>553.0</td>\n",
       "      <td>0</td>\n",
       "    </tr>\n",
       "    <tr>\n",
       "      <td>1</td>\n",
       "      <td>Albania</td>\n",
       "      <td>16.6</td>\n",
       "      <td>1145.20</td>\n",
       "      <td>267.8950</td>\n",
       "      <td>1987.740</td>\n",
       "      <td>9930.0</td>\n",
       "      <td>4.49</td>\n",
       "      <td>76.3</td>\n",
       "      <td>1.65</td>\n",
       "      <td>4090.0</td>\n",
       "      <td>0</td>\n",
       "    </tr>\n",
       "    <tr>\n",
       "      <td>2</td>\n",
       "      <td>Algeria</td>\n",
       "      <td>27.3</td>\n",
       "      <td>1712.64</td>\n",
       "      <td>185.9820</td>\n",
       "      <td>1400.440</td>\n",
       "      <td>12900.0</td>\n",
       "      <td>16.10</td>\n",
       "      <td>76.5</td>\n",
       "      <td>2.89</td>\n",
       "      <td>4460.0</td>\n",
       "      <td>0</td>\n",
       "    </tr>\n",
       "    <tr>\n",
       "      <td>3</td>\n",
       "      <td>Angola</td>\n",
       "      <td>119.0</td>\n",
       "      <td>2199.19</td>\n",
       "      <td>100.6050</td>\n",
       "      <td>1514.370</td>\n",
       "      <td>5900.0</td>\n",
       "      <td>22.40</td>\n",
       "      <td>60.1</td>\n",
       "      <td>6.16</td>\n",
       "      <td>3530.0</td>\n",
       "      <td>0</td>\n",
       "    </tr>\n",
       "    <tr>\n",
       "      <td>4</td>\n",
       "      <td>Antigua and Barbuda</td>\n",
       "      <td>10.3</td>\n",
       "      <td>5551.00</td>\n",
       "      <td>735.6600</td>\n",
       "      <td>7185.800</td>\n",
       "      <td>19100.0</td>\n",
       "      <td>1.44</td>\n",
       "      <td>76.8</td>\n",
       "      <td>2.13</td>\n",
       "      <td>12200.0</td>\n",
       "      <td>0</td>\n",
       "    </tr>\n",
       "  </tbody>\n",
       "</table>\n",
       "</div>"
      ],
      "text/plain": [
       "               country  child_mort  exports    health   imports   income  \\\n",
       "0          Afghanistan        90.2    55.30   41.9174   248.297   1610.0   \n",
       "1              Albania        16.6  1145.20  267.8950  1987.740   9930.0   \n",
       "2              Algeria        27.3  1712.64  185.9820  1400.440  12900.0   \n",
       "3               Angola       119.0  2199.19  100.6050  1514.370   5900.0   \n",
       "4  Antigua and Barbuda        10.3  5551.00  735.6600  7185.800  19100.0   \n",
       "\n",
       "   inflation  life_expec  total_fer     gdpp  cluster_labels  \n",
       "0       9.44        56.2       5.82    553.0               0  \n",
       "1       4.49        76.3       1.65   4090.0               0  \n",
       "2      16.10        76.5       2.89   4460.0               0  \n",
       "3      22.40        60.1       6.16   3530.0               0  \n",
       "4       1.44        76.8       2.13  12200.0               0  "
      ]
     },
     "execution_count": 45,
     "metadata": {},
     "output_type": "execute_result"
    }
   ],
   "source": [
    "# Assign cluster labels\n",
    "df_km['cluster_labels'] = cluster_labels\n",
    "df_km.drop('cluster_id', axis = 1).head()"
   ]
  },
  {
   "cell_type": "code",
   "execution_count": 46,
   "metadata": {},
   "outputs": [
    {
     "data": {
      "text/plain": [
       "0    146\n",
       "1     21\n",
       "Name: cluster_labels, dtype: int64"
      ]
     },
     "execution_count": 46,
     "metadata": {},
     "output_type": "execute_result"
    }
   ],
   "source": [
    "# Check the count of observation per cluster\n",
    "df_km['cluster_labels'].value_counts()"
   ]
  },
  {
   "cell_type": "markdown",
   "metadata": {},
   "source": [
    "-  #### Subtask 5.2.3: Visualize the clusters"
   ]
  },
  {
   "cell_type": "code",
   "execution_count": 47,
   "metadata": {},
   "outputs": [
    {
     "data": {
      "text/plain": [
       "<matplotlib.axes._subplots.AxesSubplot at 0x2d7fdf7f508>"
      ]
     },
     "execution_count": 47,
     "metadata": {},
     "output_type": "execute_result"
    },
    {
     "data": {
      "image/png": "[encoded data removed]",
      "text/plain": [
       "<Figure size 432x288 with 1 Axes>"
      ]
     },
     "metadata": {
      "needs_background": "light"
     },
     "output_type": "display_data"
    }
   ],
   "source": [
    "# Plot the Cluster with respect to the clusters obtained\n",
    "sns.scatterplot(x = 'gdpp', y = 'child_mort', hue ='cluster_labels', legend = 'full', data = df_km, palette='Set1')"
   ]
  },
  {
   "cell_type": "code",
   "execution_count": 48,
   "metadata": {},
   "outputs": [
    {
     "data": {
      "text/plain": [
       "<matplotlib.axes._subplots.AxesSubplot at 0x2d7fe340708>"
      ]
     },
     "execution_count": 48,
     "metadata": {},
     "output_type": "execute_result"
    },
    {
     "data": {
      "image/png": "[encoded data removed]",
      "text/plain": [
       "<Figure size 432x288 with 1 Axes>"
      ]
     },
     "metadata": {
      "needs_background": "light"
     },
     "output_type": "display_data"
    }
   ],
   "source": [
    "sns.scatterplot(x = 'child_mort', y = 'income', hue ='cluster_labels', legend = 'full', data = df_km, palette='Set1')"
   ]
  },
  {
   "cell_type": "code",
   "execution_count": 49,
   "metadata": {},
   "outputs": [
    {
     "data": {
      "text/plain": [
       "<matplotlib.axes._subplots.AxesSubplot at 0x2d7fdeb9648>"
      ]
     },
     "execution_count": 49,
     "metadata": {},
     "output_type": "execute_result"
    },
    {
     "data": {
      "image/png": "[encoded data removed]",
      "text/plain": [
       "<Figure size 432x288 with 1 Axes>"
      ]
     },
     "metadata": {
      "needs_background": "light"
     },
     "output_type": "display_data"
    }
   ],
   "source": [
    "sns.scatterplot(x = 'gdpp', y = 'income', hue ='cluster_labels', legend = 'full', data = df_km, palette='Set1')"
   ]
  },
  {
   "cell_type": "markdown",
   "metadata": {},
   "source": [
    "   -  #### Subtask 5.2.4: Cluster Profiling"
   ]
  },
  {
   "cell_type": "code",
   "execution_count": 50,
   "metadata": {},
   "outputs": [
    {
     "data": {
      "text/html": [
       "<div>\n",
       "<style scoped>\n",
       "    .dataframe tbody tr th:only-of-type {\n",
       "        vertical-align: middle;\n",
       "    }\n",
       "\n",
       "    .dataframe tbody tr th {\n",
       "        vertical-align: top;\n",
       "    }\n",
       "\n",
       "    .dataframe thead th {\n",
       "        text-align: right;\n",
       "    }\n",
       "</style>\n",
       "<table border=\"1\" class=\"dataframe\">\n",
       "  <thead>\n",
       "    <tr style=\"text-align: right;\">\n",
       "      <th></th>\n",
       "      <th>child_mort</th>\n",
       "      <th>exports</th>\n",
       "      <th>health</th>\n",
       "      <th>imports</th>\n",
       "      <th>income</th>\n",
       "      <th>inflation</th>\n",
       "      <th>life_expec</th>\n",
       "      <th>total_fer</th>\n",
       "      <th>gdpp</th>\n",
       "    </tr>\n",
       "    <tr>\n",
       "      <th>cluster_labels</th>\n",
       "      <th></th>\n",
       "      <th></th>\n",
       "      <th></th>\n",
       "      <th></th>\n",
       "      <th></th>\n",
       "      <th></th>\n",
       "      <th></th>\n",
       "      <th></th>\n",
       "      <th></th>\n",
       "    </tr>\n",
       "  </thead>\n",
       "  <tbody>\n",
       "    <tr>\n",
       "      <td>0</td>\n",
       "      <td>42.612329</td>\n",
       "      <td>3168.808581</td>\n",
       "      <td>525.346867</td>\n",
       "      <td>3240.445331</td>\n",
       "      <td>11599.578630</td>\n",
       "      <td>7.943775</td>\n",
       "      <td>69.256781</td>\n",
       "      <td>3.103838</td>\n",
       "      <td>7215.200274</td>\n",
       "    </tr>\n",
       "    <tr>\n",
       "      <td>1</td>\n",
       "      <td>5.176190</td>\n",
       "      <td>29964.696190</td>\n",
       "      <td>4731.309086</td>\n",
       "      <td>24182.246667</td>\n",
       "      <td>53421.333333</td>\n",
       "      <td>3.598248</td>\n",
       "      <td>80.298571</td>\n",
       "      <td>1.823962</td>\n",
       "      <td>51289.333333</td>\n",
       "    </tr>\n",
       "  </tbody>\n",
       "</table>\n",
       "</div>"
      ],
      "text/plain": [
       "                child_mort       exports       health       imports  \\\n",
       "cluster_labels                                                        \n",
       "0                42.612329   3168.808581   525.346867   3240.445331   \n",
       "1                 5.176190  29964.696190  4731.309086  24182.246667   \n",
       "\n",
       "                      income  inflation  life_expec  total_fer          gdpp  \n",
       "cluster_labels                                                                \n",
       "0               11599.578630   7.943775   69.256781   3.103838   7215.200274  \n",
       "1               53421.333333   3.598248   80.298571   1.823962  51289.333333  "
      ]
     },
     "execution_count": 50,
     "metadata": {},
     "output_type": "execute_result"
    }
   ],
   "source": [
    "df_km.drop('cluster_id', axis = 1).groupby('cluster_labels').mean()"
   ]
  },
  {
   "cell_type": "code",
   "execution_count": 51,
   "metadata": {},
   "outputs": [
    {
     "data": {
      "text/plain": [
       "<matplotlib.axes._subplots.AxesSubplot at 0x2d7fdd28f48>"
      ]
     },
     "execution_count": 51,
     "metadata": {},
     "output_type": "execute_result"
    },
    {
     "data": {
      "image/png": "[encoded data removed]",
      "text/plain": [
       "<Figure size 432x288 with 1 Axes>"
      ]
     },
     "metadata": {
      "needs_background": "light"
     },
     "output_type": "display_data"
    }
   ],
   "source": [
    "df_km.drop('cluster_id', axis = 1).groupby('cluster_labels').mean().plot(kind = 'bar')"
   ]
  },
  {
   "cell_type": "code",
   "execution_count": 52,
   "metadata": {},
   "outputs": [
    {
     "data": {
      "text/plain": [
       "<matplotlib.axes._subplots.AxesSubplot at 0x2d7fdc8ff88>"
      ]
     },
     "execution_count": 52,
     "metadata": {},
     "output_type": "execute_result"
    },
    {
     "data": {
      "image/png": "[encoded data removed]",
      "text/plain": [
       "<Figure size 432x288 with 1 Axes>"
      ]
     },
     "metadata": {
      "needs_background": "light"
     },
     "output_type": "display_data"
    }
   ],
   "source": [
    "df_km.drop('cluster_id', axis = 1)[['gdpp', 'child_mort', 'income', 'cluster_labels']].groupby('cluster_labels').mean().plot(kind = 'bar')"
   ]
  },
  {
   "cell_type": "markdown",
   "metadata": {},
   "source": [
    "-  #### Subtask 5.2.5: Finding the observations that belong to certain cluster"
   ]
  },
  {
   "cell_type": "code",
   "execution_count": 53,
   "metadata": {},
   "outputs": [
    {
     "data": {
      "text/plain": [
       "0              Afghanistan\n",
       "1                  Albania\n",
       "2                  Algeria\n",
       "3                   Angola\n",
       "4      Antigua and Barbuda\n",
       "              ...         \n",
       "162                Vanuatu\n",
       "163              Venezuela\n",
       "164                Vietnam\n",
       "165                  Yemen\n",
       "166                 Zambia\n",
       "Name: country, Length: 146, dtype: object"
      ]
     },
     "execution_count": 53,
     "metadata": {},
     "output_type": "execute_result"
    }
   ],
   "source": [
    "#Let's use the concept of binning\n",
    "df_km.drop('cluster_id', axis = 1)[df_km['cluster_labels']==0]['country']"
   ]
  },
  {
   "cell_type": "code",
   "execution_count": 54,
   "metadata": {},
   "outputs": [
    {
     "data": {
      "text/html": [
       "<div>\n",
       "<style scoped>\n",
       "    .dataframe tbody tr th:only-of-type {\n",
       "        vertical-align: middle;\n",
       "    }\n",
       "\n",
       "    .dataframe tbody tr th {\n",
       "        vertical-align: top;\n",
       "    }\n",
       "\n",
       "    .dataframe thead th {\n",
       "        text-align: right;\n",
       "    }\n",
       "</style>\n",
       "<table border=\"1\" class=\"dataframe\">\n",
       "  <thead>\n",
       "    <tr style=\"text-align: right;\">\n",
       "      <th></th>\n",
       "      <th>country</th>\n",
       "      <th>child_mort</th>\n",
       "      <th>exports</th>\n",
       "      <th>health</th>\n",
       "      <th>imports</th>\n",
       "      <th>income</th>\n",
       "      <th>inflation</th>\n",
       "      <th>life_expec</th>\n",
       "      <th>total_fer</th>\n",
       "      <th>gdpp</th>\n",
       "      <th>cluster_labels</th>\n",
       "    </tr>\n",
       "  </thead>\n",
       "  <tbody>\n",
       "    <tr>\n",
       "      <td>88</td>\n",
       "      <td>Liberia</td>\n",
       "      <td>89.3</td>\n",
       "      <td>62.457000</td>\n",
       "      <td>38.5860</td>\n",
       "      <td>302.80200</td>\n",
       "      <td>742.24</td>\n",
       "      <td>5.470</td>\n",
       "      <td>60.80</td>\n",
       "      <td>5.0200</td>\n",
       "      <td>331.62</td>\n",
       "      <td>0</td>\n",
       "    </tr>\n",
       "    <tr>\n",
       "      <td>26</td>\n",
       "      <td>Burundi</td>\n",
       "      <td>93.6</td>\n",
       "      <td>22.243716</td>\n",
       "      <td>26.7960</td>\n",
       "      <td>104.90964</td>\n",
       "      <td>764.00</td>\n",
       "      <td>12.300</td>\n",
       "      <td>57.70</td>\n",
       "      <td>6.2600</td>\n",
       "      <td>331.62</td>\n",
       "      <td>0</td>\n",
       "    </tr>\n",
       "    <tr>\n",
       "      <td>37</td>\n",
       "      <td>Congo, Dem. Rep.</td>\n",
       "      <td>116.0</td>\n",
       "      <td>137.274000</td>\n",
       "      <td>26.4194</td>\n",
       "      <td>165.66400</td>\n",
       "      <td>742.24</td>\n",
       "      <td>20.800</td>\n",
       "      <td>57.50</td>\n",
       "      <td>6.5400</td>\n",
       "      <td>334.00</td>\n",
       "      <td>0</td>\n",
       "    </tr>\n",
       "    <tr>\n",
       "      <td>112</td>\n",
       "      <td>Niger</td>\n",
       "      <td>123.0</td>\n",
       "      <td>77.256000</td>\n",
       "      <td>17.9568</td>\n",
       "      <td>170.86800</td>\n",
       "      <td>814.00</td>\n",
       "      <td>2.550</td>\n",
       "      <td>58.80</td>\n",
       "      <td>6.5636</td>\n",
       "      <td>348.00</td>\n",
       "      <td>0</td>\n",
       "    </tr>\n",
       "    <tr>\n",
       "      <td>132</td>\n",
       "      <td>Sierra Leone</td>\n",
       "      <td>153.4</td>\n",
       "      <td>67.032000</td>\n",
       "      <td>52.2690</td>\n",
       "      <td>137.65500</td>\n",
       "      <td>1220.00</td>\n",
       "      <td>17.200</td>\n",
       "      <td>55.00</td>\n",
       "      <td>5.2000</td>\n",
       "      <td>399.00</td>\n",
       "      <td>0</td>\n",
       "    </tr>\n",
       "    <tr>\n",
       "      <td>...</td>\n",
       "      <td>...</td>\n",
       "      <td>...</td>\n",
       "      <td>...</td>\n",
       "      <td>...</td>\n",
       "      <td>...</td>\n",
       "      <td>...</td>\n",
       "      <td>...</td>\n",
       "      <td>...</td>\n",
       "      <td>...</td>\n",
       "      <td>...</td>\n",
       "      <td>...</td>\n",
       "    </tr>\n",
       "    <tr>\n",
       "      <td>42</td>\n",
       "      <td>Cyprus</td>\n",
       "      <td>3.6</td>\n",
       "      <td>15461.600000</td>\n",
       "      <td>1838.7600</td>\n",
       "      <td>17710.00000</td>\n",
       "      <td>33900.00</td>\n",
       "      <td>2.010</td>\n",
       "      <td>79.90</td>\n",
       "      <td>1.4200</td>\n",
       "      <td>30800.00</td>\n",
       "      <td>0</td>\n",
       "    </tr>\n",
       "    <tr>\n",
       "      <td>111</td>\n",
       "      <td>New Zealand</td>\n",
       "      <td>6.2</td>\n",
       "      <td>10211.100000</td>\n",
       "      <td>3403.7000</td>\n",
       "      <td>9436.00000</td>\n",
       "      <td>32300.00</td>\n",
       "      <td>3.730</td>\n",
       "      <td>80.90</td>\n",
       "      <td>2.1700</td>\n",
       "      <td>33700.00</td>\n",
       "      <td>0</td>\n",
       "    </tr>\n",
       "    <tr>\n",
       "      <td>75</td>\n",
       "      <td>Italy</td>\n",
       "      <td>4.0</td>\n",
       "      <td>9021.600000</td>\n",
       "      <td>3411.7400</td>\n",
       "      <td>9737.60000</td>\n",
       "      <td>36200.00</td>\n",
       "      <td>0.319</td>\n",
       "      <td>81.70</td>\n",
       "      <td>1.4600</td>\n",
       "      <td>35800.00</td>\n",
       "      <td>0</td>\n",
       "    </tr>\n",
       "    <tr>\n",
       "      <td>158</td>\n",
       "      <td>United Kingdom</td>\n",
       "      <td>5.2</td>\n",
       "      <td>10969.800000</td>\n",
       "      <td>3749.9600</td>\n",
       "      <td>11981.20000</td>\n",
       "      <td>36200.00</td>\n",
       "      <td>1.570</td>\n",
       "      <td>80.30</td>\n",
       "      <td>1.9200</td>\n",
       "      <td>38900.00</td>\n",
       "      <td>0</td>\n",
       "    </tr>\n",
       "    <tr>\n",
       "      <td>77</td>\n",
       "      <td>Japan</td>\n",
       "      <td>3.2</td>\n",
       "      <td>6675.000000</td>\n",
       "      <td>4223.0500</td>\n",
       "      <td>6052.00000</td>\n",
       "      <td>35800.00</td>\n",
       "      <td>-1.900</td>\n",
       "      <td>82.37</td>\n",
       "      <td>1.3900</td>\n",
       "      <td>44500.00</td>\n",
       "      <td>0</td>\n",
       "    </tr>\n",
       "  </tbody>\n",
       "</table>\n",
       "<p>146 rows × 11 columns</p>\n",
       "</div>"
      ],
      "text/plain": [
       "              country  child_mort       exports     health      imports  \\\n",
       "88            Liberia        89.3     62.457000    38.5860    302.80200   \n",
       "26            Burundi        93.6     22.243716    26.7960    104.90964   \n",
       "37   Congo, Dem. Rep.       116.0    137.274000    26.4194    165.66400   \n",
       "112             Niger       123.0     77.256000    17.9568    170.86800   \n",
       "132      Sierra Leone       153.4     67.032000    52.2690    137.65500   \n",
       "..                ...         ...           ...        ...          ...   \n",
       "42             Cyprus         3.6  15461.600000  1838.7600  17710.00000   \n",
       "111       New Zealand         6.2  10211.100000  3403.7000   9436.00000   \n",
       "75              Italy         4.0   9021.600000  3411.7400   9737.60000   \n",
       "158    United Kingdom         5.2  10969.800000  3749.9600  11981.20000   \n",
       "77              Japan         3.2   6675.000000  4223.0500   6052.00000   \n",
       "\n",
       "       income  inflation  life_expec  total_fer      gdpp  cluster_labels  \n",
       "88     742.24      5.470       60.80     5.0200    331.62               0  \n",
       "26     764.00     12.300       57.70     6.2600    331.62               0  \n",
       "37     742.24     20.800       57.50     6.5400    334.00               0  \n",
       "112    814.00      2.550       58.80     6.5636    348.00               0  \n",
       "132   1220.00     17.200       55.00     5.2000    399.00               0  \n",
       "..        ...        ...         ...        ...       ...             ...  \n",
       "42   33900.00      2.010       79.90     1.4200  30800.00               0  \n",
       "111  32300.00      3.730       80.90     2.1700  33700.00               0  \n",
       "75   36200.00      0.319       81.70     1.4600  35800.00               0  \n",
       "158  36200.00      1.570       80.30     1.9200  38900.00               0  \n",
       "77   35800.00     -1.900       82.37     1.3900  44500.00               0  \n",
       "\n",
       "[146 rows x 11 columns]"
      ]
     },
     "execution_count": 54,
     "metadata": {},
     "output_type": "execute_result"
    }
   ],
   "source": [
    "df_km.drop('cluster_id', axis = 1)[df_km['cluster_labels']==0].sort_values(by=['gdpp', 'child_mort', 'income'], ascending=[True, True, True])"
   ]
  },
  {
   "cell_type": "code",
   "execution_count": 55,
   "metadata": {},
   "outputs": [
    {
     "data": {
      "text/html": [
       "<div>\n",
       "<style scoped>\n",
       "    .dataframe tbody tr th:only-of-type {\n",
       "        vertical-align: middle;\n",
       "    }\n",
       "\n",
       "    .dataframe tbody tr th {\n",
       "        vertical-align: top;\n",
       "    }\n",
       "\n",
       "    .dataframe thead th {\n",
       "        text-align: right;\n",
       "    }\n",
       "</style>\n",
       "<table border=\"1\" class=\"dataframe\">\n",
       "  <thead>\n",
       "    <tr style=\"text-align: right;\">\n",
       "      <th></th>\n",
       "      <th>country</th>\n",
       "      <th>child_mort</th>\n",
       "      <th>exports</th>\n",
       "      <th>health</th>\n",
       "      <th>imports</th>\n",
       "      <th>income</th>\n",
       "      <th>inflation</th>\n",
       "      <th>life_expec</th>\n",
       "      <th>total_fer</th>\n",
       "      <th>gdpp</th>\n",
       "      <th>cluster_labels</th>\n",
       "    </tr>\n",
       "  </thead>\n",
       "  <tbody>\n",
       "    <tr>\n",
       "      <td>88</td>\n",
       "      <td>Liberia</td>\n",
       "      <td>89.3</td>\n",
       "      <td>62.457000</td>\n",
       "      <td>38.5860</td>\n",
       "      <td>302.80200</td>\n",
       "      <td>742.24</td>\n",
       "      <td>5.47</td>\n",
       "      <td>60.8</td>\n",
       "      <td>5.0200</td>\n",
       "      <td>331.62</td>\n",
       "      <td>0</td>\n",
       "    </tr>\n",
       "    <tr>\n",
       "      <td>26</td>\n",
       "      <td>Burundi</td>\n",
       "      <td>93.6</td>\n",
       "      <td>22.243716</td>\n",
       "      <td>26.7960</td>\n",
       "      <td>104.90964</td>\n",
       "      <td>764.00</td>\n",
       "      <td>12.30</td>\n",
       "      <td>57.7</td>\n",
       "      <td>6.2600</td>\n",
       "      <td>331.62</td>\n",
       "      <td>0</td>\n",
       "    </tr>\n",
       "    <tr>\n",
       "      <td>37</td>\n",
       "      <td>Congo, Dem. Rep.</td>\n",
       "      <td>116.0</td>\n",
       "      <td>137.274000</td>\n",
       "      <td>26.4194</td>\n",
       "      <td>165.66400</td>\n",
       "      <td>742.24</td>\n",
       "      <td>20.80</td>\n",
       "      <td>57.5</td>\n",
       "      <td>6.5400</td>\n",
       "      <td>334.00</td>\n",
       "      <td>0</td>\n",
       "    </tr>\n",
       "    <tr>\n",
       "      <td>112</td>\n",
       "      <td>Niger</td>\n",
       "      <td>123.0</td>\n",
       "      <td>77.256000</td>\n",
       "      <td>17.9568</td>\n",
       "      <td>170.86800</td>\n",
       "      <td>814.00</td>\n",
       "      <td>2.55</td>\n",
       "      <td>58.8</td>\n",
       "      <td>6.5636</td>\n",
       "      <td>348.00</td>\n",
       "      <td>0</td>\n",
       "    </tr>\n",
       "    <tr>\n",
       "      <td>132</td>\n",
       "      <td>Sierra Leone</td>\n",
       "      <td>153.4</td>\n",
       "      <td>67.032000</td>\n",
       "      <td>52.2690</td>\n",
       "      <td>137.65500</td>\n",
       "      <td>1220.00</td>\n",
       "      <td>17.20</td>\n",
       "      <td>55.0</td>\n",
       "      <td>5.2000</td>\n",
       "      <td>399.00</td>\n",
       "      <td>0</td>\n",
       "    </tr>\n",
       "  </tbody>\n",
       "</table>\n",
       "</div>"
      ],
      "text/plain": [
       "              country  child_mort     exports   health    imports   income  \\\n",
       "88            Liberia        89.3   62.457000  38.5860  302.80200   742.24   \n",
       "26            Burundi        93.6   22.243716  26.7960  104.90964   764.00   \n",
       "37   Congo, Dem. Rep.       116.0  137.274000  26.4194  165.66400   742.24   \n",
       "112             Niger       123.0   77.256000  17.9568  170.86800   814.00   \n",
       "132      Sierra Leone       153.4   67.032000  52.2690  137.65500  1220.00   \n",
       "\n",
       "     inflation  life_expec  total_fer    gdpp  cluster_labels  \n",
       "88        5.47        60.8     5.0200  331.62               0  \n",
       "26       12.30        57.7     6.2600  331.62               0  \n",
       "37       20.80        57.5     6.5400  334.00               0  \n",
       "112       2.55        58.8     6.5636  348.00               0  \n",
       "132      17.20        55.0     5.2000  399.00               0  "
      ]
     },
     "execution_count": 55,
     "metadata": {},
     "output_type": "execute_result"
    }
   ],
   "source": [
    "# 5 countries which are in direst need of aid from the analysis work that is performd above\n",
    "df_km.drop('cluster_id', axis = 1)[df_km['cluster_labels']==0].sort_values(by=['gdpp', 'child_mort', 'income'], ascending=[True, True, True]).head()"
   ]
  },
  {
   "cell_type": "markdown",
   "metadata": {},
   "source": [
    "### Final list of countries\n",
    "\n",
    " - 5 countries which are in direst need of aid\n",
    "\n",
    "    1. Liberia\n",
    "    2. Burundi\n",
    "    3. Congo, Dem. Rep.\n",
    "    4. Niger\n",
    "    5. Sierra Leone"
   ]
  },
  {
   "cell_type": "code",
   "execution_count": null,
   "metadata": {},
   "outputs": [],
   "source": []
  }
 ],
 "metadata": {
  "kernelspec": {
   "display_name": "Python 3",
   "language": "python",
   "name": "python3"
  },
  "language_info": {
   "codemirror_mode": {
    "name": "ipython",
    "version": 3
   },
   "file_extension": ".py",
   "mimetype": "text/x-python",
   "name": "python",
   "nbconvert_exporter": "python",
   "pygments_lexer": "ipython3",
   "version": "3.7.4"
  }
 },
 "nbformat": 4,
 "nbformat_minor": 2
}
