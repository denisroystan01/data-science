{
 "cells": [
  {
   "cell_type": "markdown",
   "metadata": {},
   "source": [
    "# Gesture Recognition\n",
    "In this group project, you are going to build a 3D Conv model that will be able to predict the 5 gestures correctly. Please import the following libraries to get started."
   ]
  },
  {
   "cell_type": "markdown",
   "metadata": {},
   "source": [
    "### Group Partners\n",
    "\n",
    "- Denis Roystan Dalmeida\n",
    "- Muddu Krishna"
   ]
  },
  {
   "cell_type": "code",
   "execution_count": 1,
   "metadata": {},
   "outputs": [],
   "source": [
    "import numpy as np\n",
    "import os\n",
    "from matplotlib.pyplot import imread\n",
    "import skimage.transform\n",
    "#from scipy.misc import imread, imresize\n",
    "import datetime\n",
    "import os\n",
    "import cv2"
   ]
  },
  {
   "cell_type": "markdown",
   "metadata": {},
   "source": [
    "We set the random seed so that the results don't vary drastically."
   ]
  },
  {
   "cell_type": "code",
   "execution_count": 2,
   "metadata": {},
   "outputs": [],
   "source": [
    "np.random.seed(30)\n",
    "import random as rn\n",
    "rn.seed(30)\n",
    "from keras import backend as K\n",
    "import tensorflow as tf\n",
    "tf.random.set_seed(30)"
   ]
  },
  {
   "cell_type": "markdown",
   "metadata": {},
   "source": [
    "In this block, you read the folder names for training and validation. You also set the `batch_size` here. Note that you set the batch size in such a way that you are able to use the GPU in full capacity. You keep increasing the batch size until the machine throws an error."
   ]
  },
  {
   "cell_type": "code",
   "execution_count": 3,
   "metadata": {},
   "outputs": [],
   "source": [
    "train_doc = np.random.permutation(open('/notebooks/storage/Final_data/Collated_training/train.csv').readlines())\n",
    "val_doc = np.random.permutation(open('/notebooks/storage/Final_data/Collated_training/val.csv').readlines())\n",
    "batch_size = 10 #experiment with the batch size"
   ]
  },
  {
   "cell_type": "code",
   "execution_count": 4,
   "metadata": {},
   "outputs": [],
   "source": [
    "rows = 120   # x dimension\n",
    "cols = 120   # y dimension\n",
    "channel = 3  # number of channels (RGB)"
   ]
  },
  {
   "cell_type": "markdown",
   "metadata": {},
   "source": [
    "## Generator\n",
    "This is one of the most important part of the code. The overall structure of the generator has been given. In the generator, you are going to preprocess the images as you have images of 2 different dimensions as well as create a batch of video frames. You have to experiment with `img_idx`, `y`,`z` and normalization such that you get high accuracy."
   ]
  },
  {
   "cell_type": "code",
   "execution_count": 5,
   "metadata": {},
   "outputs": [],
   "source": [
    "def create_batch_input(source_path, folder_list, batch_num, batch_size, t, validation):\n",
    "    x = 30\n",
    "    y = rows\n",
    "    z = cols\n",
    "    img_idx = [x for x in range(0, x)] #create a list of image numbers you want to use for a particular video\n",
    "    batch_data = np.zeros((batch_size,x,y,z,3)) # x is the number of images you use for each video, (y,z) is the final size of the input images and 3 is the number of channels RGB\n",
    "    batch_labels = np.zeros((batch_size,5)) # batch_labels is the one hot representation of the output\n",
    "    \n",
    "     # Augumented batch data with affine transformation\n",
    "    batch_data_aug,batch_labels_aug = np.zeros((batch_size,x,y,z,3)), np.zeros((batch_size,5))\n",
    "    \n",
    "    # Augmented batch data with horizontal flip\n",
    "    batch_data_flip,batch_labels_flip = np.zeros((batch_size,x,y,z,3)), np.zeros((batch_size,5))\n",
    "    \n",
    "    for folder in range(batch_size): # iterate over the batch_size\n",
    "        # create a random affine to be used in image transformation for buidling agumented data set\n",
    "        dx, dy = np.random.randint(-1.7, 1.8, 2)\n",
    "        M = np.float32([[1, 0, dx], [0, 1, dy]])\n",
    "        imgs = os.listdir(source_path+'/'+ t[folder + (batch_num*batch_size)].split(';')[0]) # read all the images in the folder\n",
    "        for idx,item in enumerate(img_idx): #  Iterate iver the frames/images of a folder to read them in\n",
    "            image = imread(source_path+'/'+ t[folder + (batch_num*batch_size)].strip().split(';')[0]+'/'+imgs[item]).astype(np.float32)\n",
    "            \n",
    "            # Crop non-symmetric frame\n",
    "            if image.shape[0] != image.shape[1]:\n",
    "                image=image[0:120,20:140]\n",
    "\n",
    "            #crop the images and resize them. Note that the images are of 2 different shape \n",
    "            #and the conv3D will throw error if the inputs in a batch have different shapes\n",
    "            resize_image = cv2.resize(image, (rows,cols), interpolation = cv2.INTER_AREA)\n",
    "            \n",
    "            #Normal data\n",
    "            batch_data[folder,idx] = (resize_image)\n",
    "            \n",
    "            #Data with affine transformation\n",
    "            batch_data_aug[folder,idx] = (cv2.warpAffine(resize_image, M, (resize_image.shape[0], resize_image.shape[1])))\n",
    "            \n",
    "            # Data with horizontal flip\n",
    "            batch_data_flip[folder,idx]= np.flip(resize_image,1)\n",
    "\n",
    "        batch_labels[folder, int(t[folder + (batch_num*batch_size)].strip().split(';')[2])] = 1\n",
    "        batch_labels_aug[folder, int(t[folder + (batch_num*batch_size)].strip().split(';')[2])] = 1\n",
    "        \n",
    "        if int(t[folder + (batch_num * batch_size)].strip().split(';')[2])==0:\n",
    "            batch_labels_flip[folder, 1] = 1\n",
    "        elif int(t[folder + (batch_num*batch_size)].strip().split(';')[2])==1:\n",
    "            batch_labels_flip[folder, 0] = 1                    \n",
    "        else:\n",
    "            batch_labels_flip[folder, int(t[folder + (batch_num*batch_size)].strip().split(';')[2])] = 1\n",
    "                  \n",
    "    #adding the augumented data in the main data.\n",
    "    \n",
    "    batch_data_final = np.append(batch_data, batch_data_aug, axis = 0)\n",
    "    batch_data_final = np.append(batch_data_final, batch_data_flip, axis = 0)\n",
    "\n",
    "    batch_label_final = np.append(batch_labels, batch_labels_aug, axis = 0) \n",
    "    batch_label_final = np.append(batch_label_final, batch_labels_flip, axis = 0)\n",
    "    \n",
    "    if validation:\n",
    "        batch_data_final=batch_data\n",
    "        batch_label_final= batch_labels\n",
    "        \n",
    "    return batch_data_final,batch_label_final"
   ]
  },
  {
   "cell_type": "code",
   "execution_count": 6,
   "metadata": {},
   "outputs": [],
   "source": [
    "def generator(source_path, folder_list, batch_size, validation=False):\n",
    "    print( 'Source path = ', source_path, '; batch size =', batch_size)\n",
    "    \n",
    "    while True:\n",
    "        t = np.random.permutation(folder_list)\n",
    "        num_batches = len(folder_list)//batch_size # calculate the number of batches\n",
    "        for batch in range(num_batches): # we iterate over the number of batches\n",
    "            yield create_batch_input(source_path, folder_list, batch, batch_size, t,validation)\n",
    "            #yield batch_data, batch_labels #you yield the batch_data and the batch_labels, remember what does yield do\n",
    "\n",
    "        \n",
    "        # write the code for the remaining data points which are left after full batches\n",
    "        if (len(folder_list) != batch_size*num_batches):\n",
    "            batch_size = len(folder_list) - (batch_size*num_batches)\n",
    "            yield create_batch_input(source_path, folder_list, batch, batch_size, t,validation)"
   ]
  },
  {
   "cell_type": "markdown",
   "metadata": {},
   "source": [
    "Note here that a video is represented above in the generator as (number of images, height, width, number of channels). Take this into consideration while creating the model architecture."
   ]
  },
  {
   "cell_type": "code",
   "execution_count": 7,
   "metadata": {},
   "outputs": [
    {
     "name": "stdout",
     "output_type": "stream",
     "text": [
      "# training sequences = 663\n",
      "# validation sequences = 100\n",
      "# epochs = 10\n"
     ]
    }
   ],
   "source": [
    "curr_dt_time = datetime.datetime.now()\n",
    "train_path = '/notebooks/storage/Final_data/Collated_training/train'\n",
    "val_path = '/notebooks/storage/Final_data/Collated_training/val'\n",
    "num_train_sequences = len(train_doc)\n",
    "print('# training sequences =', num_train_sequences)\n",
    "num_val_sequences = len(val_doc)\n",
    "print('# validation sequences =', num_val_sequences)\n",
    "num_epochs = 10 # choose the number of epochs\n",
    "print ('# epochs =', num_epochs)"
   ]
  },
  {
   "cell_type": "markdown",
   "metadata": {},
   "source": [
    "## Model\n",
    "Here you make the model using different functionalities that Keras provides. Remember to use `Conv3D` and `MaxPooling3D` and not `Conv2D` and `Maxpooling2D` for a 3D convolution model. You would want to use `TimeDistributed` while building a Conv2D + RNN model. Also remember that the last layer is the softmax. Design the network in such a way that the model is able to give good accuracy on the least number of parameters so that it can fit in the memory of the webcam."
   ]
  },
  {
   "cell_type": "code",
   "execution_count": 8,
   "metadata": {},
   "outputs": [],
   "source": [
    "from keras.models import Sequential, Model\n",
    "from keras.layers import Dense, GRU, Flatten, TimeDistributed, Flatten, BatchNormalization, Activation, Dropout, LSTM\n",
    "from keras.layers.convolutional import Conv3D, MaxPooling3D, Conv2D, MaxPooling2D\n",
    "from keras.callbacks import ModelCheckpoint, ReduceLROnPlateau\n",
    "from keras import optimizers\n",
    "from keras.layers.recurrent import LSTM, GRU"
   ]
  },
  {
   "cell_type": "code",
   "execution_count": 8,
   "metadata": {},
   "outputs": [],
   "source": [
    "#CONV3D Model\n",
    "\n",
    "#write your model here\n",
    "filters = [8,16,32,64]\n",
    "dense = [256, 128, 5]\n",
    "\n",
    "# Input\n",
    "input_shape=(30,rows,cols,channel)\n",
    "\n",
    "# Define model\n",
    "model = Sequential()\n",
    "\n",
    "model.add(Conv3D(filters[0], \n",
    "                 kernel_size=(3,3,3), \n",
    "                 input_shape=input_shape,\n",
    "                 padding='same'))\n",
    "model.add(BatchNormalization())\n",
    "model.add(Activation('relu'))\n",
    "\n",
    "model.add(MaxPooling3D(pool_size=(2,2,2)))\n",
    "\n",
    "model.add(Conv3D(filters[1], \n",
    "                 kernel_size=(3,3,3), \n",
    "                 padding='same'))\n",
    "model.add(BatchNormalization())\n",
    "model.add(Activation('relu'))\n",
    "\n",
    "model.add(MaxPooling3D(pool_size=(2,2,2)))\n",
    "\n",
    "model.add(Conv3D(filters[2], \n",
    "                 kernel_size=(1,3,3), \n",
    "                 padding='same'))\n",
    "model.add(BatchNormalization())\n",
    "model.add(Activation('relu'))\n",
    "\n",
    "model.add(MaxPooling3D(pool_size=(2,2,2)))\n",
    "\n",
    "model.add(Conv3D(filters[3], \n",
    "                 kernel_size=(1,3,3), \n",
    "                 padding='same'))\n",
    "model.add(Activation('relu'))\n",
    "model.add(Dropout(0.25))\n",
    "\n",
    "model.add(MaxPooling3D(pool_size=(2,2,2)))\n",
    "\n",
    "#Flatten Layers\n",
    "model.add(Flatten())\n",
    "\n",
    "model.add(Dense(dense[0], activation='relu'))\n",
    "model.add(Dropout(0.5))\n",
    "\n",
    "model.add(Dense(dense[1], activation='relu'))\n",
    "model.add(Dropout(0.5))\n",
    "\n",
    "#softmax layer\n",
    "model.add(Dense(dense[2], activation='softmax'))"
   ]
  },
  {
   "cell_type": "markdown",
   "metadata": {},
   "source": [
    "Now that you have written the model, the next step is to `compile` the model. When you print the `summary` of the model, you'll see the total number of parameters you have to train."
   ]
  },
  {
   "cell_type": "code",
   "execution_count": 9,
   "metadata": {
    "scrolled": true
   },
   "outputs": [
    {
     "name": "stdout",
     "output_type": "stream",
     "text": [
      "Model: \"sequential\"\n",
      "_________________________________________________________________\n",
      "Layer (type)                 Output Shape              Param #   \n",
      "=================================================================\n",
      "conv3d (Conv3D)              (None, 30, 120, 120, 8)   656       \n",
      "_________________________________________________________________\n",
      "batch_normalization (BatchNo (None, 30, 120, 120, 8)   32        \n",
      "_________________________________________________________________\n",
      "activation (Activation)      (None, 30, 120, 120, 8)   0         \n",
      "_________________________________________________________________\n",
      "max_pooling3d (MaxPooling3D) (None, 15, 60, 60, 8)     0         \n",
      "_________________________________________________________________\n",
      "conv3d_1 (Conv3D)            (None, 15, 60, 60, 16)    3472      \n",
      "_________________________________________________________________\n",
      "batch_normalization_1 (Batch (None, 15, 60, 60, 16)    64        \n",
      "_________________________________________________________________\n",
      "activation_1 (Activation)    (None, 15, 60, 60, 16)    0         \n",
      "_________________________________________________________________\n",
      "max_pooling3d_1 (MaxPooling3 (None, 7, 30, 30, 16)     0         \n",
      "_________________________________________________________________\n",
      "conv3d_2 (Conv3D)            (None, 7, 30, 30, 32)     4640      \n",
      "_________________________________________________________________\n",
      "batch_normalization_2 (Batch (None, 7, 30, 30, 32)     128       \n",
      "_________________________________________________________________\n",
      "activation_2 (Activation)    (None, 7, 30, 30, 32)     0         \n",
      "_________________________________________________________________\n",
      "max_pooling3d_2 (MaxPooling3 (None, 3, 15, 15, 32)     0         \n",
      "_________________________________________________________________\n",
      "conv3d_3 (Conv3D)            (None, 3, 15, 15, 64)     18496     \n",
      "_________________________________________________________________\n",
      "activation_3 (Activation)    (None, 3, 15, 15, 64)     0         \n",
      "_________________________________________________________________\n",
      "dropout (Dropout)            (None, 3, 15, 15, 64)     0         \n",
      "_________________________________________________________________\n",
      "max_pooling3d_3 (MaxPooling3 (None, 1, 7, 7, 64)       0         \n",
      "_________________________________________________________________\n",
      "flatten (Flatten)            (None, 3136)              0         \n",
      "_________________________________________________________________\n",
      "dense (Dense)                (None, 256)               803072    \n",
      "_________________________________________________________________\n",
      "dropout_1 (Dropout)          (None, 256)               0         \n",
      "_________________________________________________________________\n",
      "dense_1 (Dense)              (None, 128)               32896     \n",
      "_________________________________________________________________\n",
      "dropout_2 (Dropout)          (None, 128)               0         \n",
      "_________________________________________________________________\n",
      "dense_2 (Dense)              (None, 5)                 645       \n",
      "=================================================================\n",
      "Total params: 864,101\n",
      "Trainable params: 863,989\n",
      "Non-trainable params: 112\n",
      "_________________________________________________________________\n",
      "None\n"
     ]
    }
   ],
   "source": [
    "from keras.optimizers import Adam\n",
    "optimiser = Adam() #write your optimizer\n",
    "model.compile(optimizer=optimiser, loss='categorical_crossentropy', metrics=['categorical_accuracy'])\n",
    "print (model.summary())"
   ]
  },
  {
   "cell_type": "markdown",
   "metadata": {},
   "source": [
    "Let us create the `train_generator` and the `val_generator` which will be used in `.fit_generator`."
   ]
  },
  {
   "cell_type": "code",
   "execution_count": 10,
   "metadata": {},
   "outputs": [],
   "source": [
    "train_generator = generator(train_path, train_doc, batch_size)\n",
    "val_generator = generator(val_path, val_doc, batch_size)"
   ]
  },
  {
   "cell_type": "code",
   "execution_count": 11,
   "metadata": {},
   "outputs": [
    {
     "name": "stdout",
     "output_type": "stream",
     "text": [
      "WARNING:tensorflow:`period` argument is deprecated. Please use `save_freq` to specify the frequency in number of batches seen.\n"
     ]
    }
   ],
   "source": [
    "model_name = 'model_init' + '_' + str(curr_dt_time).replace(' ','').replace(':','_') + '/'\n",
    "    \n",
    "if not os.path.exists(model_name):\n",
    "    os.mkdir(model_name)\n",
    "        \n",
    "filepath = model_name + 'model-{epoch:05d}-{loss:.5f}-{categorical_accuracy:.5f}-{val_loss:.5f}-{val_categorical_accuracy:.5f}.h5'\n",
    "\n",
    "checkpoint = ModelCheckpoint(filepath, monitor='val_loss', verbose=1, save_best_only=False, save_weights_only=False, mode='auto', period=1)\n",
    "\n",
    "LR = ReduceLROnPlateau(monitor='val_loss', factor=0.5, patience=2, cooldown=1, verbose=1) # write the REducelronplateau code here\n",
    "callbacks_list = [checkpoint, LR]"
   ]
  },
  {
   "cell_type": "markdown",
   "metadata": {},
   "source": [
    "The `steps_per_epoch` and `validation_steps` are used by `fit_generator` to decide the number of next() calls it need to make."
   ]
  },
  {
   "cell_type": "code",
   "execution_count": 12,
   "metadata": {},
   "outputs": [],
   "source": [
    "if (num_train_sequences%batch_size) == 0:\n",
    "    steps_per_epoch = int(num_train_sequences/batch_size)\n",
    "else:\n",
    "    steps_per_epoch = (num_train_sequences//batch_size) + 1\n",
    "\n",
    "if (num_val_sequences%batch_size) == 0:\n",
    "    validation_steps = int(num_val_sequences/batch_size)\n",
    "else:\n",
    "    validation_steps = (num_val_sequences//batch_size) + 1"
   ]
  },
  {
   "cell_type": "markdown",
   "metadata": {},
   "source": [
    "Let us now fit the model. This will start training the model and with the help of the checkpoints, you'll be able to save the model at the end of each epoch."
   ]
  },
  {
   "cell_type": "code",
   "execution_count": 13,
   "metadata": {},
   "outputs": [
    {
     "name": "stdout",
     "output_type": "stream",
     "text": [
      "WARNING:tensorflow:From <ipython-input-13-d01f9b569e38>:3: Model.fit_generator (from tensorflow.python.keras.engine.training) is deprecated and will be removed in a future version.\n",
      "Instructions for updating:\n",
      "Please use Model.fit, which supports generators.\n",
      "Source path =  Project_data/train ; batch size = 10\n",
      "Epoch 1/20\n",
      "67/67 [==============================] - ETA: 0s - loss: 1.7765 - categorical_accuracy: 0.2584 Source path =  Project_data/val ; batch size = 10\n",
      "\n",
      "Epoch 00001: saving model to model_init_2020-11-0702_13_45.176574\\model-00001-1.77654-0.25842-1.57809-0.20333.h5\n",
      "67/67 [==============================] - 2956s 44s/step - loss: 1.7765 - categorical_accuracy: 0.2584 - val_loss: 1.5781 - val_categorical_accuracy: 0.2033\n",
      "Epoch 2/20\n",
      "67/67 [==============================] - ETA: 0s - loss: 1.5445 - categorical_accuracy: 0.2637 \n",
      "Epoch 00002: saving model to model_init_2020-11-0702_13_45.176574\\model-00002-1.54453-0.26368-1.62007-0.19000.h5\n",
      "67/67 [==============================] - 984s 15s/step - loss: 1.5445 - categorical_accuracy: 0.2637 - val_loss: 1.6201 - val_categorical_accuracy: 0.1900\n",
      "Epoch 3/20\n",
      "67/67 [==============================] - ETA: 0s - loss: 1.4399 - categorical_accuracy: 0.3715 \n",
      "Epoch 00003: saving model to model_init_2020-11-0702_13_45.176574\\model-00003-1.43991-0.37148-1.58532-0.26000.h5\n",
      "\n",
      "Epoch 00003: ReduceLROnPlateau reducing learning rate to 0.0005000000237487257.\n",
      "67/67 [==============================] - 981s 15s/step - loss: 1.4399 - categorical_accuracy: 0.3715 - val_loss: 1.5853 - val_categorical_accuracy: 0.2600\n",
      "Epoch 4/20\n",
      "67/67 [==============================] - ETA: 0s - loss: 1.2966 - categorical_accuracy: 0.4726 \n",
      "Epoch 00004: saving model to model_init_2020-11-0702_13_45.176574\\model-00004-1.29657-0.47264-1.52549-0.33333.h5\n",
      "67/67 [==============================] - 973s 15s/step - loss: 1.2966 - categorical_accuracy: 0.4726 - val_loss: 1.5255 - val_categorical_accuracy: 0.3333\n",
      "Epoch 5/20\n",
      "67/67 [==============================] - ETA: 0s - loss: 1.1635 - categorical_accuracy: 0.5075 \n",
      "Epoch 00005: saving model to model_init_2020-11-0702_13_45.176574\\model-00005-1.16345-0.50746-1.23470-0.53667.h5\n",
      "67/67 [==============================] - 981s 15s/step - loss: 1.1635 - categorical_accuracy: 0.5075 - val_loss: 1.2347 - val_categorical_accuracy: 0.5367\n",
      "Epoch 6/20\n",
      "67/67 [==============================] - ETA: 0s - loss: 1.1439 - categorical_accuracy: 0.5556 \n",
      "Epoch 00006: saving model to model_init_2020-11-0702_13_45.176574\\model-00006-1.14387-0.55556-1.42931-0.42667.h5\n",
      "67/67 [==============================] - 979s 15s/step - loss: 1.1439 - categorical_accuracy: 0.5556 - val_loss: 1.4293 - val_categorical_accuracy: 0.4267\n",
      "Epoch 7/20\n",
      "67/67 [==============================] - ETA: 0s - loss: 0.9820 - categorical_accuracy: 0.6318 \n",
      "Epoch 00007: saving model to model_init_2020-11-0702_13_45.176574\\model-00007-0.98196-0.63184-1.01540-0.54333.h5\n",
      "67/67 [==============================] - 979s 15s/step - loss: 0.9820 - categorical_accuracy: 0.6318 - val_loss: 1.0154 - val_categorical_accuracy: 0.5433\n",
      "Epoch 8/20\n",
      "67/67 [==============================] - ETA: 0s - loss: 1.0041 - categorical_accuracy: 0.6235 \n",
      "Epoch 00008: saving model to model_init_2020-11-0702_13_45.176574\\model-00008-1.00408-0.62355-0.88405-0.66000.h5\n",
      "67/67 [==============================] - 735s 11s/step - loss: 1.0041 - categorical_accuracy: 0.6235 - val_loss: 0.8841 - val_categorical_accuracy: 0.6600\n",
      "Epoch 9/20\n",
      "67/67 [==============================] - ETA: 0s - loss: 0.9442 - categorical_accuracy: 0.6302\n",
      "Epoch 00009: saving model to model_init_2020-11-0702_13_45.176574\\model-00009-0.94415-0.63018-1.03427-0.60333.h5\n",
      "67/67 [==============================] - 393s 6s/step - loss: 0.9442 - categorical_accuracy: 0.6302 - val_loss: 1.0343 - val_categorical_accuracy: 0.6033\n",
      "Epoch 10/20\n",
      "67/67 [==============================] - ETA: 0s - loss: 0.8063 - categorical_accuracy: 0.6849\n",
      "Epoch 00010: saving model to model_init_2020-11-0702_13_45.176574\\model-00010-0.80626-0.68491-0.93121-0.64000.h5\n",
      "\n",
      "Epoch 00010: ReduceLROnPlateau reducing learning rate to 0.0002500000118743628.\n",
      "67/67 [==============================] - 392s 6s/step - loss: 0.8063 - categorical_accuracy: 0.6849 - val_loss: 0.9312 - val_categorical_accuracy: 0.6400\n",
      "Epoch 11/20\n",
      "67/67 [==============================] - ETA: 0s - loss: 0.7988 - categorical_accuracy: 0.7131\n",
      "Epoch 00011: saving model to model_init_2020-11-0702_13_45.176574\\model-00011-0.79882-0.71310-0.84013-0.73667.h5\n",
      "67/67 [==============================] - 396s 6s/step - loss: 0.7988 - categorical_accuracy: 0.7131 - val_loss: 0.8401 - val_categorical_accuracy: 0.7367\n",
      "Epoch 12/20\n",
      "67/67 [==============================] - ETA: 0s - loss: 0.6476 - categorical_accuracy: 0.7446\n",
      "Epoch 00012: saving model to model_init_2020-11-0702_13_45.176574\\model-00012-0.64756-0.74461-0.72325-0.75333.h5\n",
      "67/67 [==============================] - 393s 6s/step - loss: 0.6476 - categorical_accuracy: 0.7446 - val_loss: 0.7232 - val_categorical_accuracy: 0.7533\n",
      "Epoch 13/20\n",
      "67/67 [==============================] - ETA: 0s - loss: 0.6595 - categorical_accuracy: 0.7579\n",
      "Epoch 00013: saving model to model_init_2020-11-0702_13_45.176574\\model-00013-0.65954-0.75788-0.68170-0.71667.h5\n",
      "67/67 [==============================] - 393s 6s/step - loss: 0.6595 - categorical_accuracy: 0.7579 - val_loss: 0.6817 - val_categorical_accuracy: 0.7167\n",
      "Epoch 14/20\n",
      "67/67 [==============================] - ETA: 0s - loss: 0.6962 - categorical_accuracy: 0.7430\n",
      "Epoch 00014: saving model to model_init_2020-11-0702_13_45.176574\\model-00014-0.69620-0.74295-0.58535-0.77667.h5\n",
      "67/67 [==============================] - 392s 6s/step - loss: 0.6962 - categorical_accuracy: 0.7430 - val_loss: 0.5854 - val_categorical_accuracy: 0.7767\n",
      "Epoch 15/20\n",
      "67/67 [==============================] - ETA: 0s - loss: 0.6194 - categorical_accuracy: 0.7678\n",
      "Epoch 00015: saving model to model_init_2020-11-0702_13_45.176574\\model-00015-0.61938-0.76783-0.84337-0.62333.h5\n",
      "67/67 [==============================] - 393s 6s/step - loss: 0.6194 - categorical_accuracy: 0.7678 - val_loss: 0.8434 - val_categorical_accuracy: 0.6233\n",
      "Epoch 16/20\n",
      "67/67 [==============================] - ETA: 0s - loss: 0.6204 - categorical_accuracy: 0.7910\n",
      "Epoch 00016: saving model to model_init_2020-11-0702_13_45.176574\\model-00016-0.62045-0.79104-0.87888-0.67667.h5\n",
      "\n",
      "Epoch 00016: ReduceLROnPlateau reducing learning rate to 0.0001250000059371814.\n",
      "67/67 [==============================] - 400s 6s/step - loss: 0.6204 - categorical_accuracy: 0.7910 - val_loss: 0.8789 - val_categorical_accuracy: 0.6767\n",
      "Epoch 17/20\n",
      "67/67 [==============================] - ETA: 0s - loss: 0.6013 - categorical_accuracy: 0.7695\n",
      "Epoch 00017: saving model to model_init_2020-11-0702_13_45.176574\\model-00017-0.60133-0.76949-0.47602-0.81667.h5\n",
      "67/67 [==============================] - 398s 6s/step - loss: 0.6013 - categorical_accuracy: 0.7695 - val_loss: 0.4760 - val_categorical_accuracy: 0.8167\n",
      "Epoch 18/20\n",
      "67/67 [==============================] - ETA: 0s - loss: 0.5903 - categorical_accuracy: 0.7960\n",
      "Epoch 00018: saving model to model_init_2020-11-0702_13_45.176574\\model-00018-0.59034-0.79602-0.71138-0.72667.h5\n",
      "67/67 [==============================] - 398s 6s/step - loss: 0.5903 - categorical_accuracy: 0.7960 - val_loss: 0.7114 - val_categorical_accuracy: 0.7267\n",
      "Epoch 19/20\n",
      "67/67 [==============================] - ETA: 0s - loss: 0.4792 - categorical_accuracy: 0.8308\n",
      "Epoch 00019: saving model to model_init_2020-11-0702_13_45.176574\\model-00019-0.47922-0.83085-0.73464-0.70333.h5\n",
      "\n",
      "Epoch 00019: ReduceLROnPlateau reducing learning rate to 6.25000029685907e-05.\n",
      "67/67 [==============================] - 399s 6s/step - loss: 0.4792 - categorical_accuracy: 0.8308 - val_loss: 0.7346 - val_categorical_accuracy: 0.7033\n",
      "Epoch 20/20\n",
      "67/67 [==============================] - ETA: 0s - loss: 0.4318 - categorical_accuracy: 0.8507\n",
      "Epoch 00020: saving model to model_init_2020-11-0702_13_45.176574\\model-00020-0.43179-0.85075-0.67745-0.73333.h5\n",
      "67/67 [==============================] - 396s 6s/step - loss: 0.4318 - categorical_accuracy: 0.8507 - val_loss: 0.6775 - val_categorical_accuracy: 0.7333\n"
     ]
    },
    {
     "data": {
      "text/plain": [
       "<tensorflow.python.keras.callbacks.History at 0x16593f7be80>"
      ]
     },
     "execution_count": 13,
     "metadata": {},
     "output_type": "execute_result"
    }
   ],
   "source": [
    "#batch_size = 10\n",
    "num_epochs = 20\n",
    "model.fit_generator(train_generator, steps_per_epoch=steps_per_epoch, epochs=num_epochs, verbose=1, \n",
    "                    callbacks=callbacks_list, validation_data=val_generator, \n",
    "                    validation_steps=validation_steps, class_weight=None, workers=1, initial_epoch=0)"
   ]
  },
  {
   "cell_type": "code",
   "execution_count": 14,
   "metadata": {},
   "outputs": [
    {
     "name": "stdout",
     "output_type": "stream",
     "text": [
      "Epoch 1/20\n",
      "34/34 [==============================] - ETA: 0s - loss: 0.4658 - categorical_accuracy: 0.8301\n",
      "Epoch 00001: saving model to model_init_2020-11-0702_13_45.176574\\model-00001-0.46585-0.83007-0.56180-0.76667.h5\n",
      "34/34 [==============================] - 199s 6s/step - loss: 0.4658 - categorical_accuracy: 0.8301 - val_loss: 0.5618 - val_categorical_accuracy: 0.7667\n",
      "Epoch 2/20\n",
      "34/34 [==============================] - ETA: 0s - loss: 0.4803 - categorical_accuracy: 0.8105 \n",
      "Epoch 00002: saving model to model_init_2020-11-0702_13_45.176574\\model-00002-0.48029-0.81046-0.61415-0.77333.h5\n",
      "34/34 [==============================] - 495s 15s/step - loss: 0.4803 - categorical_accuracy: 0.8105 - val_loss: 0.6141 - val_categorical_accuracy: 0.7733\n",
      "Epoch 3/20\n",
      "34/34 [==============================] - ETA: 0s - loss: 0.4508 - categorical_accuracy: 0.8235 \n",
      "Epoch 00003: saving model to model_init_2020-11-0702_13_45.176574\\model-00003-0.45075-0.82353-0.66944-0.78000.h5\n",
      "\n",
      "Epoch 00003: ReduceLROnPlateau reducing learning rate to 3.125000148429535e-05.\n",
      "34/34 [==============================] - 495s 15s/step - loss: 0.4508 - categorical_accuracy: 0.8235 - val_loss: 0.6694 - val_categorical_accuracy: 0.7800\n",
      "Epoch 4/20\n",
      "34/34 [==============================] - ETA: 0s - loss: 0.3785 - categorical_accuracy: 0.8791 \n",
      "Epoch 00004: saving model to model_init_2020-11-0702_13_45.176574\\model-00004-0.37854-0.87908-0.71304-0.72000.h5\n",
      "34/34 [==============================] - 493s 15s/step - loss: 0.3785 - categorical_accuracy: 0.8791 - val_loss: 0.7130 - val_categorical_accuracy: 0.7200\n",
      "Epoch 5/20\n",
      "34/34 [==============================] - ETA: 0s - loss: 0.4837 - categorical_accuracy: 0.8137 \n",
      "Epoch 00005: saving model to model_init_2020-11-0702_13_45.176574\\model-00005-0.48371-0.81373-0.55820-0.76000.h5\n",
      "34/34 [==============================] - 495s 15s/step - loss: 0.4837 - categorical_accuracy: 0.8137 - val_loss: 0.5582 - val_categorical_accuracy: 0.7600\n",
      "Epoch 6/20\n",
      "34/34 [==============================] - ETA: 0s - loss: 0.3933 - categorical_accuracy: 0.8660 \n",
      "Epoch 00006: saving model to model_init_2020-11-0702_13_45.176574\\model-00006-0.39327-0.86601-0.40735-0.82667.h5\n",
      "34/34 [==============================] - 493s 15s/step - loss: 0.3933 - categorical_accuracy: 0.8660 - val_loss: 0.4073 - val_categorical_accuracy: 0.8267\n",
      "Epoch 7/20\n",
      "34/34 [==============================] - ETA: 0s - loss: 0.5151 - categorical_accuracy: 0.7843 \n",
      "Epoch 00007: saving model to model_init_2020-11-0702_13_45.176574\\model-00007-0.51514-0.78431-0.76449-0.67333.h5\n",
      "34/34 [==============================] - 498s 15s/step - loss: 0.5151 - categorical_accuracy: 0.7843 - val_loss: 0.7645 - val_categorical_accuracy: 0.6733\n",
      "Epoch 8/20\n",
      "34/34 [==============================] - ETA: 0s - loss: 0.3914 - categorical_accuracy: 0.8529 \n",
      "Epoch 00008: saving model to model_init_2020-11-0702_13_45.176574\\model-00008-0.39143-0.85294-0.70396-0.73333.h5\n",
      "\n",
      "Epoch 00008: ReduceLROnPlateau reducing learning rate to 1.5625000742147677e-05.\n",
      "34/34 [==============================] - 496s 15s/step - loss: 0.3914 - categorical_accuracy: 0.8529 - val_loss: 0.7040 - val_categorical_accuracy: 0.7333\n",
      "Epoch 9/20\n",
      "34/34 [==============================] - ETA: 0s - loss: 0.3829 - categorical_accuracy: 0.8431 \n",
      "Epoch 00009: saving model to model_init_2020-11-0702_13_45.176574\\model-00009-0.38286-0.84314-0.49026-0.79333.h5\n",
      "34/34 [==============================] - 494s 15s/step - loss: 0.3829 - categorical_accuracy: 0.8431 - val_loss: 0.4903 - val_categorical_accuracy: 0.7933\n",
      "Epoch 10/20\n",
      "34/34 [==============================] - ETA: 0s - loss: 0.3634 - categorical_accuracy: 0.8660 \n",
      "Epoch 00010: saving model to model_init_2020-11-0702_13_45.176574\\model-00010-0.36340-0.86601-0.61618-0.79333.h5\n",
      "\n",
      "Epoch 00010: ReduceLROnPlateau reducing learning rate to 7.812500371073838e-06.\n",
      "34/34 [==============================] - 495s 15s/step - loss: 0.3634 - categorical_accuracy: 0.8660 - val_loss: 0.6162 - val_categorical_accuracy: 0.7933\n",
      "Epoch 11/20\n",
      "34/34 [==============================] - ETA: 0s - loss: 0.4085 - categorical_accuracy: 0.8595 \n",
      "Epoch 00011: saving model to model_init_2020-11-0702_13_45.176574\\model-00011-0.40848-0.85948-0.66470-0.70000.h5\n",
      "34/34 [==============================] - 495s 15s/step - loss: 0.4085 - categorical_accuracy: 0.8595 - val_loss: 0.6647 - val_categorical_accuracy: 0.7000\n",
      "Epoch 12/20\n",
      "34/34 [==============================] - ETA: 0s - loss: 0.3037 - categorical_accuracy: 0.9052 \n",
      "Epoch 00012: saving model to model_init_2020-11-0702_13_45.176574\\model-00012-0.30367-0.90523-0.39674-0.87333.h5\n",
      "34/34 [==============================] - 496s 15s/step - loss: 0.3037 - categorical_accuracy: 0.9052 - val_loss: 0.3967 - val_categorical_accuracy: 0.8733\n",
      "Epoch 13/20\n",
      "34/34 [==============================] - ETA: 0s - loss: 0.4481 - categorical_accuracy: 0.8366 \n",
      "Epoch 00013: saving model to model_init_2020-11-0702_13_45.176574\\model-00013-0.44809-0.83660-0.53422-0.74000.h5\n",
      "34/34 [==============================] - 495s 15s/step - loss: 0.4481 - categorical_accuracy: 0.8366 - val_loss: 0.5342 - val_categorical_accuracy: 0.7400\n",
      "Epoch 14/20\n",
      "34/34 [==============================] - ETA: 0s - loss: 0.4581 - categorical_accuracy: 0.8235 \n",
      "Epoch 00014: saving model to model_init_2020-11-0702_13_45.176574\\model-00014-0.45811-0.82353-0.52159-0.79333.h5\n",
      "\n",
      "Epoch 00014: ReduceLROnPlateau reducing learning rate to 3.906250185536919e-06.\n",
      "34/34 [==============================] - 497s 15s/step - loss: 0.4581 - categorical_accuracy: 0.8235 - val_loss: 0.5216 - val_categorical_accuracy: 0.7933\n",
      "Epoch 15/20\n",
      "34/34 [==============================] - ETA: 0s - loss: 0.3571 - categorical_accuracy: 0.8562 \n",
      "Epoch 00015: saving model to model_init_2020-11-0702_13_45.176574\\model-00015-0.35708-0.85621-0.50804-0.76667.h5\n",
      "34/34 [==============================] - 495s 15s/step - loss: 0.3571 - categorical_accuracy: 0.8562 - val_loss: 0.5080 - val_categorical_accuracy: 0.7667\n",
      "Epoch 16/20\n",
      "34/34 [==============================] - ETA: 0s - loss: 0.4250 - categorical_accuracy: 0.8170 \n",
      "Epoch 00016: saving model to model_init_2020-11-0702_13_45.176574\\model-00016-0.42498-0.81699-0.59100-0.77333.h5\n",
      "\n",
      "Epoch 00016: ReduceLROnPlateau reducing learning rate to 1.9531250927684596e-06.\n",
      "34/34 [==============================] - 497s 15s/step - loss: 0.4250 - categorical_accuracy: 0.8170 - val_loss: 0.5910 - val_categorical_accuracy: 0.7733\n",
      "Epoch 17/20\n",
      "34/34 [==============================] - ETA: 0s - loss: 0.3630 - categorical_accuracy: 0.8399 \n",
      "Epoch 00017: saving model to model_init_2020-11-0702_13_45.176574\\model-00017-0.36301-0.83987-0.72109-0.66000.h5\n",
      "34/34 [==============================] - 497s 15s/step - loss: 0.3630 - categorical_accuracy: 0.8399 - val_loss: 0.7211 - val_categorical_accuracy: 0.6600\n",
      "Epoch 18/20\n",
      "34/34 [==============================] - ETA: 0s - loss: 0.4313 - categorical_accuracy: 0.8497 \n",
      "Epoch 00018: saving model to model_init_2020-11-0702_13_45.176574\\model-00018-0.43134-0.84967-0.51665-0.80000.h5\n",
      "\n",
      "Epoch 00018: ReduceLROnPlateau reducing learning rate to 9.765625463842298e-07.\n",
      "34/34 [==============================] - 496s 15s/step - loss: 0.4313 - categorical_accuracy: 0.8497 - val_loss: 0.5167 - val_categorical_accuracy: 0.8000\n",
      "Epoch 19/20\n",
      "34/34 [==============================] - ETA: 0s - loss: 0.3590 - categorical_accuracy: 0.8824 \n",
      "Epoch 00019: saving model to model_init_2020-11-0702_13_45.176574\\model-00019-0.35903-0.88235-0.54671-0.77333.h5\n",
      "34/34 [==============================] - 495s 15s/step - loss: 0.3590 - categorical_accuracy: 0.8824 - val_loss: 0.5467 - val_categorical_accuracy: 0.7733\n",
      "Epoch 20/20\n",
      "34/34 [==============================] - ETA: 0s - loss: 0.4020 - categorical_accuracy: 0.8758 \n",
      "Epoch 00020: saving model to model_init_2020-11-0702_13_45.176574\\model-00020-0.40200-0.87582-0.63430-0.77333.h5\n",
      "\n",
      "Epoch 00020: ReduceLROnPlateau reducing learning rate to 4.882812731921149e-07.\n",
      "34/34 [==============================] - 497s 15s/step - loss: 0.4020 - categorical_accuracy: 0.8758 - val_loss: 0.6343 - val_categorical_accuracy: 0.7733\n"
     ]
    },
    {
     "data": {
      "text/plain": [
       "<tensorflow.python.keras.callbacks.History at 0x1658af8bdf0>"
      ]
     },
     "execution_count": 14,
     "metadata": {},
     "output_type": "execute_result"
    }
   ],
   "source": [
    "batch_size = 20\n",
    "num_epochs = 20\n",
    "\n",
    "if (num_train_sequences%batch_size) == 0:\n",
    "    steps_per_epoch = int(num_train_sequences/batch_size)\n",
    "else:\n",
    "    steps_per_epoch = (num_train_sequences//batch_size) + 1\n",
    "\n",
    "if (num_val_sequences%batch_size) == 0:\n",
    "    validation_steps = int(num_val_sequences/batch_size)\n",
    "else:\n",
    "    validation_steps = (num_val_sequences//batch_size) + 1\n",
    "    \n",
    "model.fit_generator(train_generator, steps_per_epoch=steps_per_epoch, epochs=num_epochs, verbose=1, \n",
    "                    callbacks=callbacks_list, validation_data=val_generator, \n",
    "                    validation_steps=validation_steps, class_weight=None, workers=1, initial_epoch=0)"
   ]
  },
  {
   "cell_type": "code",
   "execution_count": null,
   "metadata": {},
   "outputs": [],
   "source": []
  }
 ],
 "metadata": {
  "kernelspec": {
   "display_name": "Python 3",
   "language": "python",
   "name": "python3"
  },
  "language_info": {
   "codemirror_mode": {
    "name": "ipython",
    "version": 3
   },
   "file_extension": ".py",
   "mimetype": "text/x-python",
   "name": "python",
   "nbconvert_exporter": "python",
   "pygments_lexer": "ipython3",
   "version": "3.8.3"
  }
 },
 "nbformat": 4,
 "nbformat_minor": 2
}
